{
  "nbformat": 4,
  "nbformat_minor": 0,
  "metadata": {
    "colab": {
      "name": "Ebola West Africa",
      "provenance": [],
      "collapsed_sections": [],
      "toc_visible": true,
      "authorship_tag": "ABX9TyOcaVNOeoMMFqtGNIZ+Z1hp",
      "include_colab_link": true
    },
    "kernelspec": {
      "name": "python3",
      "display_name": "Python 3"
    }
  },
  "cells": [
    {
      "cell_type": "markdown",
      "metadata": {
        "id": "view-in-github",
        "colab_type": "text"
      },
      "source": [
        "<a href=\"https://colab.research.google.com/github/Gakori/Ebola-cases/blob/master/Ebola_West_Africa.ipynb\" target=\"_parent\"><img src=\"https://colab.research.google.com/assets/colab-badge.svg\" alt=\"Open In Colab\"/></a>"
      ]
    },
    {
      "cell_type": "markdown",
      "metadata": {
        "id": "Srhe4sT5hDTE",
        "colab_type": "text"
      },
      "source": [
        "### 1) RESEARCH QUESTION\n",
        "\n",
        "Ebola is an outbreak that occured in west Africa and spread to other countries in west africa. Investigate the effects of the outbreak to the population considering the number of deaths and the number of affected people in different countries.\n",
        "\n",
        "### Hypothesis 1\n",
        "\n",
        "\n",
        "### Metric for success\n",
        "investigated the numbers of affected people and deaths in West Africa\n",
        "\n",
        "### Understanding the context\n",
        "\n",
        "### recording experimantal design\n",
        "\n",
        "i) Business understanding\n",
        "\n",
        "ii) Loading the data\n",
        "\n",
        "iii) Data cleaning\n",
        "\n",
        "iv) EDA\n",
        "\n",
        "V) Hypothesis testing\n",
        "\n",
        "vi) Conclusion\n",
        "\n",
        "vii)Recommendations"
      ]
    },
    {
      "cell_type": "markdown",
      "metadata": {
        "id": "sowktNMQiyC0",
        "colab_type": "text"
      },
      "source": [
        "### 2) Loading the data"
      ]
    },
    {
      "cell_type": "code",
      "metadata": {
        "id": "FPZzjqpai5A_",
        "colab_type": "code",
        "colab": {}
      },
      "source": [
        "#import all the neccesary libraries\n",
        "#pandas and numpy\n",
        "import pandas as pd\n",
        "import numpy as np\n",
        "\n",
        "#for viz\n",
        "import seaborn as sns\n",
        "import matplotlib\n",
        "from matplotlib import pyplot as plt"
      ],
      "execution_count": null,
      "outputs": []
    },
    {
      "cell_type": "code",
      "metadata": {
        "id": "9FjvSYrajcFe",
        "colab_type": "code",
        "colab": {
          "base_uri": "https://localhost:8080/",
          "height": 198
        },
        "outputId": "7bbd945f-68f0-4e4b-c4ef-909e9b4c4267"
      },
      "source": [
        "#loading the datasets\n",
        "df = pd.read_csv('ebola_data_db_format.csv')\n",
        "df.head()"
      ],
      "execution_count": null,
      "outputs": [
        {
          "output_type": "execute_result",
          "data": {
            "text/html": [
              "<div>\n",
              "<style scoped>\n",
              "    .dataframe tbody tr th:only-of-type {\n",
              "        vertical-align: middle;\n",
              "    }\n",
              "\n",
              "    .dataframe tbody tr th {\n",
              "        vertical-align: top;\n",
              "    }\n",
              "\n",
              "    .dataframe thead th {\n",
              "        text-align: right;\n",
              "    }\n",
              "</style>\n",
              "<table border=\"1\" class=\"dataframe\">\n",
              "  <thead>\n",
              "    <tr style=\"text-align: right;\">\n",
              "      <th></th>\n",
              "      <th>Indicator</th>\n",
              "      <th>Country</th>\n",
              "      <th>Date</th>\n",
              "      <th>value</th>\n",
              "    </tr>\n",
              "  </thead>\n",
              "  <tbody>\n",
              "    <tr>\n",
              "      <th>0</th>\n",
              "      <td>Cumulative number of confirmed, probable and s...</td>\n",
              "      <td>Guinea</td>\n",
              "      <td>2015-03-10</td>\n",
              "      <td>3285.0</td>\n",
              "    </tr>\n",
              "    <tr>\n",
              "      <th>1</th>\n",
              "      <td>Cumulative number of confirmed Ebola cases</td>\n",
              "      <td>Guinea</td>\n",
              "      <td>2015-03-10</td>\n",
              "      <td>2871.0</td>\n",
              "    </tr>\n",
              "    <tr>\n",
              "      <th>2</th>\n",
              "      <td>Cumulative number of probable Ebola cases</td>\n",
              "      <td>Guinea</td>\n",
              "      <td>2015-03-10</td>\n",
              "      <td>392.0</td>\n",
              "    </tr>\n",
              "    <tr>\n",
              "      <th>3</th>\n",
              "      <td>Cumulative number of suspected Ebola cases</td>\n",
              "      <td>Guinea</td>\n",
              "      <td>2015-03-10</td>\n",
              "      <td>22.0</td>\n",
              "    </tr>\n",
              "    <tr>\n",
              "      <th>4</th>\n",
              "      <td>Cumulative number of confirmed, probable and s...</td>\n",
              "      <td>Guinea</td>\n",
              "      <td>2015-03-10</td>\n",
              "      <td>2170.0</td>\n",
              "    </tr>\n",
              "  </tbody>\n",
              "</table>\n",
              "</div>"
            ],
            "text/plain": [
              "                                           Indicator  ...   value\n",
              "0  Cumulative number of confirmed, probable and s...  ...  3285.0\n",
              "1         Cumulative number of confirmed Ebola cases  ...  2871.0\n",
              "2          Cumulative number of probable Ebola cases  ...   392.0\n",
              "3         Cumulative number of suspected Ebola cases  ...    22.0\n",
              "4  Cumulative number of confirmed, probable and s...  ...  2170.0\n",
              "\n",
              "[5 rows x 4 columns]"
            ]
          },
          "metadata": {
            "tags": []
          },
          "execution_count": 6
        }
      ]
    },
    {
      "cell_type": "code",
      "metadata": {
        "id": "j1t00eDuju1c",
        "colab_type": "code",
        "colab": {
          "base_uri": "https://localhost:8080/",
          "height": 35
        },
        "outputId": "d87c001d-49f1-487e-8f8c-22df822c820e"
      },
      "source": [
        "df.shape"
      ],
      "execution_count": null,
      "outputs": [
        {
          "output_type": "execute_result",
          "data": {
            "text/plain": [
              "(17585, 4)"
            ]
          },
          "metadata": {
            "tags": []
          },
          "execution_count": 7
        }
      ]
    },
    {
      "cell_type": "markdown",
      "metadata": {
        "id": "9ItdQhnVj0ef",
        "colab_type": "text"
      },
      "source": [
        "*contains 17585 rows and 4 columns*"
      ]
    },
    {
      "cell_type": "code",
      "metadata": {
        "id": "giRKWfWBjzPr",
        "colab_type": "code",
        "colab": {
          "base_uri": "https://localhost:8080/",
          "height": 302
        },
        "outputId": "6a48043b-e8c4-42c1-de80-b5e834d9de6f"
      },
      "source": [
        "ebola_df = pd.read_csv('ebola_2014_2016_clean.csv')\n",
        "ebola_df.head()"
      ],
      "execution_count": null,
      "outputs": [
        {
          "output_type": "execute_result",
          "data": {
            "text/html": [
              "<div>\n",
              "<style scoped>\n",
              "    .dataframe tbody tr th:only-of-type {\n",
              "        vertical-align: middle;\n",
              "    }\n",
              "\n",
              "    .dataframe tbody tr th {\n",
              "        vertical-align: top;\n",
              "    }\n",
              "\n",
              "    .dataframe thead th {\n",
              "        text-align: right;\n",
              "    }\n",
              "</style>\n",
              "<table border=\"1\" class=\"dataframe\">\n",
              "  <thead>\n",
              "    <tr style=\"text-align: right;\">\n",
              "      <th></th>\n",
              "      <th>Country</th>\n",
              "      <th>Date</th>\n",
              "      <th>Cumulative no. of confirmed, probable and suspected cases</th>\n",
              "      <th>Cumulative no. of confirmed, probable and suspected deaths</th>\n",
              "    </tr>\n",
              "  </thead>\n",
              "  <tbody>\n",
              "    <tr>\n",
              "      <th>0</th>\n",
              "      <td>Guinea</td>\n",
              "      <td>2014-08-29</td>\n",
              "      <td>648.0</td>\n",
              "      <td>430.0</td>\n",
              "    </tr>\n",
              "    <tr>\n",
              "      <th>1</th>\n",
              "      <td>Nigeria</td>\n",
              "      <td>2014-08-29</td>\n",
              "      <td>19.0</td>\n",
              "      <td>7.0</td>\n",
              "    </tr>\n",
              "    <tr>\n",
              "      <th>2</th>\n",
              "      <td>Sierra Leone</td>\n",
              "      <td>2014-08-29</td>\n",
              "      <td>1026.0</td>\n",
              "      <td>422.0</td>\n",
              "    </tr>\n",
              "    <tr>\n",
              "      <th>3</th>\n",
              "      <td>Liberia</td>\n",
              "      <td>2014-08-29</td>\n",
              "      <td>1378.0</td>\n",
              "      <td>694.0</td>\n",
              "    </tr>\n",
              "    <tr>\n",
              "      <th>4</th>\n",
              "      <td>Sierra Leone</td>\n",
              "      <td>2014-09-05</td>\n",
              "      <td>1261.0</td>\n",
              "      <td>491.0</td>\n",
              "    </tr>\n",
              "  </tbody>\n",
              "</table>\n",
              "</div>"
            ],
            "text/plain": [
              "        Country  ... Cumulative no. of confirmed, probable and suspected deaths\n",
              "0        Guinea  ...                                              430.0        \n",
              "1       Nigeria  ...                                                7.0        \n",
              "2  Sierra Leone  ...                                              422.0        \n",
              "3       Liberia  ...                                              694.0        \n",
              "4  Sierra Leone  ...                                              491.0        \n",
              "\n",
              "[5 rows x 4 columns]"
            ]
          },
          "metadata": {
            "tags": []
          },
          "execution_count": 8
        }
      ]
    },
    {
      "cell_type": "code",
      "metadata": {
        "id": "mDmMK55vkGeN",
        "colab_type": "code",
        "colab": {
          "base_uri": "https://localhost:8080/",
          "height": 35
        },
        "outputId": "fc4e52aa-744f-403d-e86b-deb84b360bc3"
      },
      "source": [
        "ebola_df.shape"
      ],
      "execution_count": null,
      "outputs": [
        {
          "output_type": "execute_result",
          "data": {
            "text/plain": [
              "(2485, 4)"
            ]
          },
          "metadata": {
            "tags": []
          },
          "execution_count": 9
        }
      ]
    },
    {
      "cell_type": "markdown",
      "metadata": {
        "id": "bB_pn6wYkRv5",
        "colab_type": "text"
      },
      "source": [
        "*the data contains 2485 rows and 4 columns*"
      ]
    },
    {
      "cell_type": "code",
      "metadata": {
        "id": "P8Qil7c5kQD2",
        "colab_type": "code",
        "colab": {
          "base_uri": "https://localhost:8080/",
          "height": 217
        },
        "outputId": "eba33a98-485f-46fd-9ad1-f40156b766a1"
      },
      "source": [
        "#checking for the info of the data\n",
        "ebola_df.info()"
      ],
      "execution_count": null,
      "outputs": [
        {
          "output_type": "stream",
          "text": [
            "<class 'pandas.core.frame.DataFrame'>\n",
            "RangeIndex: 2485 entries, 0 to 2484\n",
            "Data columns (total 4 columns):\n",
            " #   Column                                                      Non-Null Count  Dtype  \n",
            "---  ------                                                      --------------  -----  \n",
            " 0   Country                                                     2485 non-null   object \n",
            " 1   Date                                                        2485 non-null   object \n",
            " 2   Cumulative no. of confirmed, probable and suspected cases   2477 non-null   float64\n",
            " 3   Cumulative no. of confirmed, probable and suspected deaths  2485 non-null   float64\n",
            "dtypes: float64(2), object(2)\n",
            "memory usage: 77.8+ KB\n"
          ],
          "name": "stdout"
        }
      ]
    },
    {
      "cell_type": "markdown",
      "metadata": {
        "id": "HmuqbM9yA5Pi",
        "colab_type": "text"
      },
      "source": [
        "*number of cases some null values*"
      ]
    },
    {
      "cell_type": "code",
      "metadata": {
        "id": "f8nQXPj6k7Ic",
        "colab_type": "code",
        "colab": {
          "base_uri": "https://localhost:8080/",
          "height": 108
        },
        "outputId": "19d89408-1bb1-4fb4-e477-346b37516115"
      },
      "source": [
        "#checking for datatypes\n",
        "ebola_df.dtypes"
      ],
      "execution_count": null,
      "outputs": [
        {
          "output_type": "execute_result",
          "data": {
            "text/plain": [
              "Country                                                        object\n",
              "Date                                                           object\n",
              "Cumulative no. of confirmed, probable and suspected cases     float64\n",
              "Cumulative no. of confirmed, probable and suspected deaths    float64\n",
              "dtype: object"
            ]
          },
          "metadata": {
            "tags": []
          },
          "execution_count": 11
        }
      ]
    },
    {
      "cell_type": "markdown",
      "metadata": {
        "id": "_P8xtTQVlPlU",
        "colab_type": "text"
      },
      "source": [
        "*country and date are objects while cases and deaths are floats*\n",
        "\n",
        "*date should be in datetime format while country should be categorical*"
      ]
    },
    {
      "cell_type": "code",
      "metadata": {
        "id": "PQwTpoEflNid",
        "colab_type": "code",
        "colab": {
          "base_uri": "https://localhost:8080/",
          "height": 90
        },
        "outputId": "83eb562d-5613-415d-ae3d-0b66397948be"
      },
      "source": [
        "#checking for the columns in the dataset\n",
        "ebola_df.columns"
      ],
      "execution_count": null,
      "outputs": [
        {
          "output_type": "execute_result",
          "data": {
            "text/plain": [
              "Index(['Country', 'Date',\n",
              "       'Cumulative no. of confirmed, probable and suspected cases',\n",
              "       'Cumulative no. of confirmed, probable and suspected deaths'],\n",
              "      dtype='object')"
            ]
          },
          "metadata": {
            "tags": []
          },
          "execution_count": 12
        }
      ]
    },
    {
      "cell_type": "code",
      "metadata": {
        "id": "XxdjJv-llx44",
        "colab_type": "code",
        "colab": {
          "base_uri": "https://localhost:8080/",
          "height": 35
        },
        "outputId": "3bbe708f-f557-49eb-c3c6-d1adec78afa8"
      },
      "source": [
        "#checking for the size of our data\n",
        "ebola_df.size"
      ],
      "execution_count": null,
      "outputs": [
        {
          "output_type": "execute_result",
          "data": {
            "text/plain": [
              "9940"
            ]
          },
          "metadata": {
            "tags": []
          },
          "execution_count": 13
        }
      ]
    },
    {
      "cell_type": "markdown",
      "metadata": {
        "id": "pzjLd_M3mHtE",
        "colab_type": "text"
      },
      "source": [
        "*the size of the dataset is 9940*"
      ]
    },
    {
      "cell_type": "code",
      "metadata": {
        "id": "xp3xXP3gl7z9",
        "colab_type": "code",
        "colab": {
          "base_uri": "https://localhost:8080/",
          "height": 314
        },
        "outputId": "0d4d3253-125b-4bca-bf5c-aec0baefb116"
      },
      "source": [
        "#checing for stat summaries\n",
        "ebola_df.describe()"
      ],
      "execution_count": null,
      "outputs": [
        {
          "output_type": "execute_result",
          "data": {
            "text/html": [
              "<div>\n",
              "<style scoped>\n",
              "    .dataframe tbody tr th:only-of-type {\n",
              "        vertical-align: middle;\n",
              "    }\n",
              "\n",
              "    .dataframe tbody tr th {\n",
              "        vertical-align: top;\n",
              "    }\n",
              "\n",
              "    .dataframe thead th {\n",
              "        text-align: right;\n",
              "    }\n",
              "</style>\n",
              "<table border=\"1\" class=\"dataframe\">\n",
              "  <thead>\n",
              "    <tr style=\"text-align: right;\">\n",
              "      <th></th>\n",
              "      <th>Cumulative no. of confirmed, probable and suspected cases</th>\n",
              "      <th>Cumulative no. of confirmed, probable and suspected deaths</th>\n",
              "    </tr>\n",
              "  </thead>\n",
              "  <tbody>\n",
              "    <tr>\n",
              "      <th>count</th>\n",
              "      <td>2477.000000</td>\n",
              "      <td>2485.000000</td>\n",
              "    </tr>\n",
              "    <tr>\n",
              "      <th>mean</th>\n",
              "      <td>2553.678644</td>\n",
              "      <td>1028.347686</td>\n",
              "    </tr>\n",
              "    <tr>\n",
              "      <th>std</th>\n",
              "      <td>4427.118148</td>\n",
              "      <td>1656.064372</td>\n",
              "    </tr>\n",
              "    <tr>\n",
              "      <th>min</th>\n",
              "      <td>0.000000</td>\n",
              "      <td>0.000000</td>\n",
              "    </tr>\n",
              "    <tr>\n",
              "      <th>25%</th>\n",
              "      <td>1.000000</td>\n",
              "      <td>0.000000</td>\n",
              "    </tr>\n",
              "    <tr>\n",
              "      <th>50%</th>\n",
              "      <td>8.000000</td>\n",
              "      <td>6.000000</td>\n",
              "    </tr>\n",
              "    <tr>\n",
              "      <th>75%</th>\n",
              "      <td>3657.000000</td>\n",
              "      <td>2386.000000</td>\n",
              "    </tr>\n",
              "    <tr>\n",
              "      <th>max</th>\n",
              "      <td>14122.000000</td>\n",
              "      <td>4806.000000</td>\n",
              "    </tr>\n",
              "  </tbody>\n",
              "</table>\n",
              "</div>"
            ],
            "text/plain": [
              "       Cumulative no. of confirmed, probable and suspected cases  Cumulative no. of confirmed, probable and suspected deaths\n",
              "count                                        2477.000000                                                2485.000000         \n",
              "mean                                         2553.678644                                                1028.347686         \n",
              "std                                          4427.118148                                                1656.064372         \n",
              "min                                             0.000000                                                   0.000000         \n",
              "25%                                             1.000000                                                   0.000000         \n",
              "50%                                             8.000000                                                   6.000000         \n",
              "75%                                          3657.000000                                                2386.000000         \n",
              "max                                         14122.000000                                                4806.000000         "
            ]
          },
          "metadata": {
            "tags": []
          },
          "execution_count": 11
        }
      ]
    },
    {
      "cell_type": "markdown",
      "metadata": {
        "id": "CcosTf9YmU7l",
        "colab_type": "text"
      },
      "source": [
        "*from the above summary, there were 2477 confirmed cases and 2485 deaths*\n",
        "\n",
        "*the mean of cases and deaths was 2553.68 and 1028.35 respectively*\n"
      ]
    },
    {
      "cell_type": "code",
      "metadata": {
        "id": "SzLmpA4etoh8",
        "colab_type": "code",
        "colab": {
          "base_uri": "https://localhost:8080/",
          "height": 217
        },
        "outputId": "97a67996-8fb3-495c-f18b-32cebd7e6aa1"
      },
      "source": [
        "#checking for value count in country column\n",
        "ebola_df['Country'].value_counts()"
      ],
      "execution_count": null,
      "outputs": [
        {
          "output_type": "execute_result",
          "data": {
            "text/plain": [
              "Liberia                     365\n",
              "Guinea                      259\n",
              "Sierra Leone                259\n",
              "Nigeria                     255\n",
              "Senegal                     254\n",
              "United States of America    245\n",
              "Mali                        243\n",
              "Spain                       243\n",
              "United Kingdom              221\n",
              "Italy                       141\n",
              "Name: Country, dtype: int64"
            ]
          },
          "metadata": {
            "tags": []
          },
          "execution_count": 14
        }
      ]
    },
    {
      "cell_type": "markdown",
      "metadata": {
        "id": "4F3AG2Bptqvs",
        "colab_type": "text"
      },
      "source": [
        "*apart from countries in west africa there were other countries which are USA, UK and Italy*\n",
        "\n",
        "*Liberia has the most count while italy has the lowest*"
      ]
    },
    {
      "cell_type": "code",
      "metadata": {
        "id": "IYTyivt5ukRQ",
        "colab_type": "code",
        "colab": {
          "base_uri": "https://localhost:8080/",
          "height": 235
        },
        "outputId": "53627e2e-2363-4a93-dc9f-bf5542a64ba6"
      },
      "source": [
        "#checking for value count in date column\n",
        "ebola_df['Date'].value_counts()"
      ],
      "execution_count": null,
      "outputs": [
        {
          "output_type": "execute_result",
          "data": {
            "text/plain": [
              "2016-03-23    12\n",
              "2015-07-08    11\n",
              "2015-10-05    11\n",
              "2015-10-09    11\n",
              "2015-09-21    11\n",
              "              ..\n",
              "2014-09-18     5\n",
              "2015-01-13     5\n",
              "2014-09-24     5\n",
              "2014-09-08     5\n",
              "2014-08-29     4\n",
              "Name: Date, Length: 259, dtype: int64"
            ]
          },
          "metadata": {
            "tags": []
          },
          "execution_count": 15
        }
      ]
    },
    {
      "cell_type": "markdown",
      "metadata": {
        "id": "DD281ZMevBXy",
        "colab_type": "text"
      },
      "source": [
        "*2016-03-23 has the most value count*"
      ]
    },
    {
      "cell_type": "markdown",
      "metadata": {
        "id": "ra-criGSm9ou",
        "colab_type": "text"
      },
      "source": [
        "### 3) Tyding the data"
      ]
    },
    {
      "cell_type": "code",
      "metadata": {
        "id": "kzbPa54zmRCw",
        "colab_type": "code",
        "colab": {
          "base_uri": "https://localhost:8080/",
          "height": 35
        },
        "outputId": "632424dc-58d7-45ba-8dd8-9d3855245e4a"
      },
      "source": [
        "#renaming columns \n",
        "\n",
        "ebola_df.rename({'Cumulative no. of confirmed, probable and suspected cases' : 'no of confirmed cases', \n",
        "                 'Cumulative no. of confirmed, probable and suspected deaths' : 'no of confirmed deaths'}, \n",
        "                    axis=1, inplace=True)\n",
        "\n",
        "ebola_df.columns"
      ],
      "execution_count": null,
      "outputs": [
        {
          "output_type": "execute_result",
          "data": {
            "text/plain": [
              "Index(['Country', 'Date', 'no of confirmed cases', 'no of confirmed deaths'], dtype='object')"
            ]
          },
          "metadata": {
            "tags": []
          },
          "execution_count": 16
        }
      ]
    },
    {
      "cell_type": "markdown",
      "metadata": {
        "id": "vzlGxjR6n5eg",
        "colab_type": "text"
      },
      "source": [
        "*renamed no of cases and deaths*"
      ]
    },
    {
      "cell_type": "code",
      "metadata": {
        "id": "7UHipdgin0C5",
        "colab_type": "code",
        "colab": {
          "base_uri": "https://localhost:8080/",
          "height": 235
        },
        "outputId": "b34a8e70-af3f-423d-aa1b-ad28bd552765"
      },
      "source": [
        "#changing date to datetime\n",
        "ebola_df.Date = pd.to_datetime(ebola_df.Date)\n",
        "ebola_df.Date"
      ],
      "execution_count": null,
      "outputs": [
        {
          "output_type": "execute_result",
          "data": {
            "text/plain": [
              "0      2014-08-29\n",
              "1      2014-08-29\n",
              "2      2014-08-29\n",
              "3      2014-08-29\n",
              "4      2014-09-05\n",
              "          ...    \n",
              "2480   2016-03-23\n",
              "2481   2016-03-23\n",
              "2482   2016-03-23\n",
              "2483   2016-03-23\n",
              "2484   2016-03-23\n",
              "Name: Date, Length: 2485, dtype: datetime64[ns]"
            ]
          },
          "metadata": {
            "tags": []
          },
          "execution_count": 17
        }
      ]
    },
    {
      "cell_type": "code",
      "metadata": {
        "id": "XkjJQyc_BY8Y",
        "colab_type": "code",
        "colab": {
          "base_uri": "https://localhost:8080/",
          "height": 108
        },
        "outputId": "7f845558-fea7-4542-eb0f-6cf7703363b0"
      },
      "source": [
        "#country to category\n",
        "\n",
        "ebola_df['Country']= ebola_df['Country'].astype('category')\n",
        "\n",
        "#reviewing the dtypes\n",
        "ebola_df.dtypes"
      ],
      "execution_count": null,
      "outputs": [
        {
          "output_type": "execute_result",
          "data": {
            "text/plain": [
              "Country                         category\n",
              "Date                      datetime64[ns]\n",
              "no of confirmed cases            float64\n",
              "no of confirmed deaths           float64\n",
              "dtype: object"
            ]
          },
          "metadata": {
            "tags": []
          },
          "execution_count": 19
        }
      ]
    },
    {
      "cell_type": "markdown",
      "metadata": {
        "id": "Hf6kI3yKoqm_",
        "colab_type": "text"
      },
      "source": [
        "*all columns are in the correct format*"
      ]
    },
    {
      "cell_type": "code",
      "metadata": {
        "id": "jzNNB6kWohU0",
        "colab_type": "code",
        "colab": {
          "base_uri": "https://localhost:8080/",
          "height": 35
        },
        "outputId": "b6ef8b28-20bc-40c2-b57c-caa0e27a7a05"
      },
      "source": [
        "#checking for null values\n",
        "ebola_df.isnull().values.sum()"
      ],
      "execution_count": null,
      "outputs": [
        {
          "output_type": "execute_result",
          "data": {
            "text/plain": [
              "8"
            ]
          },
          "metadata": {
            "tags": []
          },
          "execution_count": 20
        }
      ]
    },
    {
      "cell_type": "code",
      "metadata": {
        "id": "O5Lh4ppSsOSy",
        "colab_type": "code",
        "colab": {
          "base_uri": "https://localhost:8080/",
          "height": 102
        },
        "outputId": "80d67d3c-cc7b-4105-d1f7-a30aa712bfc1"
      },
      "source": [
        "ebola_df.isnull().sum()"
      ],
      "execution_count": null,
      "outputs": [
        {
          "output_type": "execute_result",
          "data": {
            "text/plain": [
              "Country                   0\n",
              "Date                      0\n",
              "no of confirmed cases     8\n",
              "no of confirmed deaths    0\n",
              "dtype: int64"
            ]
          },
          "metadata": {
            "tags": []
          },
          "execution_count": 17
        }
      ]
    },
    {
      "cell_type": "markdown",
      "metadata": {
        "id": "knwzR3_TtA2z",
        "colab_type": "text"
      },
      "source": [
        "*decided not to drop the null values in no of confirmed cases column cz in some countries there were actually no ebola cases meaning there were zero cases*"
      ]
    },
    {
      "cell_type": "code",
      "metadata": {
        "id": "oGqJA02yCUtX",
        "colab_type": "code",
        "colab": {
          "base_uri": "https://localhost:8080/",
          "height": 340
        },
        "outputId": "566d10b0-a471-4405-b799-0cdb0f5297e4"
      },
      "source": [
        "ebola_df['no of confirmed cases'].groupby(['Country']).value_counts()"
      ],
      "execution_count": null,
      "outputs": [
        {
          "output_type": "error",
          "ename": "KeyError",
          "evalue": "ignored",
          "traceback": [
            "\u001b[0;31m---------------------------------------------------------------------------\u001b[0m",
            "\u001b[0;31mKeyError\u001b[0m                                  Traceback (most recent call last)",
            "\u001b[0;32m<ipython-input-22-6889120f90d8>\u001b[0m in \u001b[0;36m<module>\u001b[0;34m()\u001b[0m\n\u001b[0;32m----> 1\u001b[0;31m \u001b[0mebola_df\u001b[0m\u001b[0;34m[\u001b[0m\u001b[0;34m'no of confirmed cases'\u001b[0m\u001b[0;34m]\u001b[0m\u001b[0;34m.\u001b[0m\u001b[0mgroupby\u001b[0m\u001b[0;34m(\u001b[0m\u001b[0;34m[\u001b[0m\u001b[0;34m'Country'\u001b[0m\u001b[0;34m]\u001b[0m\u001b[0;34m)\u001b[0m\u001b[0;34m.\u001b[0m\u001b[0mvalue_counts\u001b[0m\u001b[0;34m(\u001b[0m\u001b[0;34m)\u001b[0m\u001b[0;34m\u001b[0m\u001b[0;34m\u001b[0m\u001b[0m\n\u001b[0m",
            "\u001b[0;32m/usr/local/lib/python3.6/dist-packages/pandas/core/series.py\u001b[0m in \u001b[0;36mgroupby\u001b[0;34m(self, by, axis, level, as_index, sort, group_keys, squeeze, observed)\u001b[0m\n\u001b[1;32m   1685\u001b[0m             \u001b[0mgroup_keys\u001b[0m\u001b[0;34m=\u001b[0m\u001b[0mgroup_keys\u001b[0m\u001b[0;34m,\u001b[0m\u001b[0;34m\u001b[0m\u001b[0;34m\u001b[0m\u001b[0m\n\u001b[1;32m   1686\u001b[0m             \u001b[0msqueeze\u001b[0m\u001b[0;34m=\u001b[0m\u001b[0msqueeze\u001b[0m\u001b[0;34m,\u001b[0m\u001b[0;34m\u001b[0m\u001b[0;34m\u001b[0m\u001b[0m\n\u001b[0;32m-> 1687\u001b[0;31m             \u001b[0mobserved\u001b[0m\u001b[0;34m=\u001b[0m\u001b[0mobserved\u001b[0m\u001b[0;34m,\u001b[0m\u001b[0;34m\u001b[0m\u001b[0;34m\u001b[0m\u001b[0m\n\u001b[0m\u001b[1;32m   1688\u001b[0m         )\n\u001b[1;32m   1689\u001b[0m \u001b[0;34m\u001b[0m\u001b[0m\n",
            "\u001b[0;32m/usr/local/lib/python3.6/dist-packages/pandas/core/groupby/groupby.py\u001b[0m in \u001b[0;36m__init__\u001b[0;34m(self, obj, keys, axis, level, grouper, exclusions, selection, as_index, sort, group_keys, squeeze, observed, mutated)\u001b[0m\n\u001b[1;32m    408\u001b[0m                 \u001b[0msort\u001b[0m\u001b[0;34m=\u001b[0m\u001b[0msort\u001b[0m\u001b[0;34m,\u001b[0m\u001b[0;34m\u001b[0m\u001b[0;34m\u001b[0m\u001b[0m\n\u001b[1;32m    409\u001b[0m                 \u001b[0mobserved\u001b[0m\u001b[0;34m=\u001b[0m\u001b[0mobserved\u001b[0m\u001b[0;34m,\u001b[0m\u001b[0;34m\u001b[0m\u001b[0;34m\u001b[0m\u001b[0m\n\u001b[0;32m--> 410\u001b[0;31m                 \u001b[0mmutated\u001b[0m\u001b[0;34m=\u001b[0m\u001b[0mself\u001b[0m\u001b[0;34m.\u001b[0m\u001b[0mmutated\u001b[0m\u001b[0;34m,\u001b[0m\u001b[0;34m\u001b[0m\u001b[0;34m\u001b[0m\u001b[0m\n\u001b[0m\u001b[1;32m    411\u001b[0m             )\n\u001b[1;32m    412\u001b[0m \u001b[0;34m\u001b[0m\u001b[0m\n",
            "\u001b[0;32m/usr/local/lib/python3.6/dist-packages/pandas/core/groupby/grouper.py\u001b[0m in \u001b[0;36mget_grouper\u001b[0;34m(obj, key, axis, level, sort, observed, mutated, validate)\u001b[0m\n\u001b[1;32m    598\u001b[0m                 \u001b[0min_axis\u001b[0m\u001b[0;34m,\u001b[0m \u001b[0mname\u001b[0m\u001b[0;34m,\u001b[0m \u001b[0mlevel\u001b[0m\u001b[0;34m,\u001b[0m \u001b[0mgpr\u001b[0m \u001b[0;34m=\u001b[0m \u001b[0;32mFalse\u001b[0m\u001b[0;34m,\u001b[0m \u001b[0;32mNone\u001b[0m\u001b[0;34m,\u001b[0m \u001b[0mgpr\u001b[0m\u001b[0;34m,\u001b[0m \u001b[0;32mNone\u001b[0m\u001b[0;34m\u001b[0m\u001b[0;34m\u001b[0m\u001b[0m\n\u001b[1;32m    599\u001b[0m             \u001b[0;32melse\u001b[0m\u001b[0;34m:\u001b[0m\u001b[0;34m\u001b[0m\u001b[0;34m\u001b[0m\u001b[0m\n\u001b[0;32m--> 600\u001b[0;31m                 \u001b[0;32mraise\u001b[0m \u001b[0mKeyError\u001b[0m\u001b[0;34m(\u001b[0m\u001b[0mgpr\u001b[0m\u001b[0;34m)\u001b[0m\u001b[0;34m\u001b[0m\u001b[0;34m\u001b[0m\u001b[0m\n\u001b[0m\u001b[1;32m    601\u001b[0m         \u001b[0;32melif\u001b[0m \u001b[0misinstance\u001b[0m\u001b[0;34m(\u001b[0m\u001b[0mgpr\u001b[0m\u001b[0;34m,\u001b[0m \u001b[0mGrouper\u001b[0m\u001b[0;34m)\u001b[0m \u001b[0;32mand\u001b[0m \u001b[0mgpr\u001b[0m\u001b[0;34m.\u001b[0m\u001b[0mkey\u001b[0m \u001b[0;32mis\u001b[0m \u001b[0;32mnot\u001b[0m \u001b[0;32mNone\u001b[0m\u001b[0;34m:\u001b[0m\u001b[0;34m\u001b[0m\u001b[0;34m\u001b[0m\u001b[0m\n\u001b[1;32m    602\u001b[0m             \u001b[0;31m# Add key to exclusions\u001b[0m\u001b[0;34m\u001b[0m\u001b[0;34m\u001b[0m\u001b[0;34m\u001b[0m\u001b[0m\n",
            "\u001b[0;31mKeyError\u001b[0m: 'Country'"
          ]
        }
      ]
    },
    {
      "cell_type": "markdown",
      "metadata": {
        "id": "-PnxPrhov9cp",
        "colab_type": "text"
      },
      "source": [
        "### 4) Univariate Analysis"
      ]
    },
    {
      "cell_type": "markdown",
      "metadata": {
        "id": "GYnf_AyxwLCm",
        "colab_type": "text"
      },
      "source": [
        "**Mode**"
      ]
    },
    {
      "cell_type": "markdown",
      "metadata": {
        "id": "FbH_75EgwNNf",
        "colab_type": "text"
      },
      "source": [
        "frequenty occuring number found in a set of numbers"
      ]
    },
    {
      "cell_type": "code",
      "metadata": {
        "id": "tB43zxxTsTTS",
        "colab_type": "code",
        "colab": {
          "base_uri": "https://localhost:8080/",
          "height": 85
        },
        "outputId": "72d62914-2b35-4764-e3f8-7a2805ab3d8d"
      },
      "source": [
        "#finding the mode of no of cases and deaths\n",
        "#for loop is used \n",
        "\n",
        "for column in ebola_df.columns:\n",
        "  print(f'mode of {column: <22} : {ebola_df[column].mode()[0]}')\n"
      ],
      "execution_count": null,
      "outputs": [
        {
          "output_type": "stream",
          "text": [
            "mode of Country                : Liberia\n",
            "mode of Date                   : 2016-03-23 00:00:00\n",
            "mode of no of confirmed cases  : 1.0\n",
            "mode of no of confirmed deaths : 0.0\n"
          ],
          "name": "stdout"
        }
      ]
    },
    {
      "cell_type": "markdown",
      "metadata": {
        "id": "kFG7SBLHw1Ne",
        "colab_type": "text"
      },
      "source": [
        "*Liberia has been spotted several times, the date 2016-03-23 is frequently occuring, most cases are at 1 and zero deaths*"
      ]
    },
    {
      "cell_type": "markdown",
      "metadata": {
        "id": "5Ia0dxF7xRuy",
        "colab_type": "text"
      },
      "source": [
        "**MEAN**"
      ]
    },
    {
      "cell_type": "markdown",
      "metadata": {
        "id": "Z5_1Mj40xTTf",
        "colab_type": "text"
      },
      "source": [
        "*mean is detrmined by adding all the data points of a population and divding it by the number of data points*"
      ]
    },
    {
      "cell_type": "code",
      "metadata": {
        "id": "UIEI72K8s1YG",
        "colab_type": "code",
        "colab": {
          "base_uri": "https://localhost:8080/",
          "height": 51
        },
        "outputId": "5ded0f8e-cc56-4d71-af16-379ef1032260"
      },
      "source": [
        "#fing the mean of numerical columns using a for loop\n",
        "#pandas columns.diff is used to select only numerical columns\n",
        "numerical_col = ebola_df[ebola_df.columns.difference(['Country', 'Date'])]\n",
        "numerical_col\n",
        "\n",
        "for column in numerical_col:\n",
        "  print(f'mean of {column: <22} : {ebola_df[column].mean()}')"
      ],
      "execution_count": null,
      "outputs": [
        {
          "output_type": "stream",
          "text": [
            "mean of no of confirmed cases  : 2553.6786435203876\n",
            "mean of no of confirmed deaths : 1028.3476861167003\n"
          ],
          "name": "stdout"
        }
      ]
    },
    {
      "cell_type": "markdown",
      "metadata": {
        "id": "ZmdMFaLDyl2Q",
        "colab_type": "text"
      },
      "source": [
        "*mean of confirmed cases is 2553.68 while the mean of deaths is 1028.35*\n",
        "\n",
        "*mean of confirmed cases is more than the deaths*"
      ]
    },
    {
      "cell_type": "markdown",
      "metadata": {
        "id": "Qc-vj1sNy481",
        "colab_type": "text"
      },
      "source": [
        "**MEDIAN**"
      ]
    },
    {
      "cell_type": "markdown",
      "metadata": {
        "id": "yIK_Gtcpy6VT",
        "colab_type": "text"
      },
      "source": [
        "its a value in which datais divided into two equal partsie the no on the right side is the same as the no on the left side provided the data is arranged in ascending or descending order"
      ]
    },
    {
      "cell_type": "code",
      "metadata": {
        "id": "JRxH97z3zash",
        "colab_type": "code",
        "colab": {
          "base_uri": "https://localhost:8080/",
          "height": 51
        },
        "outputId": "2b189cec-3081-4707-f765-ca68a166561f"
      },
      "source": [
        "#finding the median using for loop \n",
        "\n",
        "for column in numerical_col:\n",
        "  print(f'median of {column: <22} : {ebola_df[column].median()}')"
      ],
      "execution_count": null,
      "outputs": [
        {
          "output_type": "stream",
          "text": [
            "median of no of confirmed cases  : 8.0\n",
            "median of no of confirmed deaths : 6.0\n"
          ],
          "name": "stdout"
        }
      ]
    },
    {
      "cell_type": "markdown",
      "metadata": {
        "id": "DRdyPjaGz7ot",
        "colab_type": "text"
      },
      "source": [
        "*the median of cases is 8.0 while that of deaths is 6.0*"
      ]
    },
    {
      "cell_type": "markdown",
      "metadata": {
        "id": "YLgBi1bn0INn",
        "colab_type": "text"
      },
      "source": [
        "**Standard Deviation**"
      ]
    },
    {
      "cell_type": "markdown",
      "metadata": {
        "id": "03PcSwD-0LRJ",
        "colab_type": "text"
      },
      "source": [
        "is a measurement of avg distance between each quantity and the mean.It tries to show how data is spread out from the mean.\n",
        "A low std indicates that the data points tend to be close to the mean of the dataset while a high std indicates that the data points are spread out over a wider range of values."
      ]
    },
    {
      "cell_type": "code",
      "metadata": {
        "id": "oVoVciVgzaiC",
        "colab_type": "code",
        "colab": {
          "base_uri": "https://localhost:8080/",
          "height": 51
        },
        "outputId": "31ed4d0b-21b3-440a-9759-59ce1c39ae1b"
      },
      "source": [
        "#std using a for loop \n",
        "\n",
        "for column in numerical_col:\n",
        "  print(f'standard deviation of {column: <22} : {ebola_df[column].std()}')"
      ],
      "execution_count": null,
      "outputs": [
        {
          "output_type": "stream",
          "text": [
            "standard deviation of no of confirmed cases  : 4427.118148257047\n",
            "standard deviation of no of confirmed deaths : 1656.0643715560198\n"
          ],
          "name": "stdout"
        }
      ]
    },
    {
      "cell_type": "markdown",
      "metadata": {
        "id": "Sf0Hw3_ozXEk",
        "colab_type": "text"
      },
      "source": [
        "*median of confirmed cases is 4427.12 while that of deatths is 1659.06*"
      ]
    },
    {
      "cell_type": "markdown",
      "metadata": {
        "id": "nBOEoIVB1ofL",
        "colab_type": "text"
      },
      "source": [
        "**Variance**"
      ]
    },
    {
      "cell_type": "markdown",
      "metadata": {
        "id": "wEp9KHix1qkx",
        "colab_type": "text"
      },
      "source": [
        "is the square of the avg distance btwn the mean and each datapoint.simply, it is the square of the std. how spreadout the datapoints are."
      ]
    },
    {
      "cell_type": "code",
      "metadata": {
        "id": "kVtta5fPx9vT",
        "colab_type": "code",
        "colab": {
          "base_uri": "https://localhost:8080/",
          "height": 51
        },
        "outputId": "c960789d-33cc-4f4e-f36e-ae76a4d8175d"
      },
      "source": [
        "#var using for loop\n",
        "\n",
        "for column in numerical_col:\n",
        "  print(f'variance of {column: <22} : {ebola_df[column].var()}')"
      ],
      "execution_count": null,
      "outputs": [
        {
          "output_type": "stream",
          "text": [
            "variance of no of confirmed cases  : 19599375.098626908\n",
            "variance of no of confirmed deaths : 2742549.2027372345\n"
          ],
          "name": "stdout"
        }
      ]
    },
    {
      "cell_type": "markdown",
      "metadata": {
        "id": "ydRWCUr52hgi",
        "colab_type": "text"
      },
      "source": [
        "*variance of cases is 19599375.10 while that of deaths is 2742599.20*"
      ]
    },
    {
      "cell_type": "markdown",
      "metadata": {
        "id": "LH0GlNjL2sFB",
        "colab_type": "text"
      },
      "source": [
        "**Range**"
      ]
    },
    {
      "cell_type": "markdown",
      "metadata": {
        "id": "phfB5mAG2r89",
        "colab_type": "text"
      },
      "source": [
        "this is the difference bettween the maximum and the minimum values"
      ]
    },
    {
      "cell_type": "code",
      "metadata": {
        "id": "PajmhjKk2fFm",
        "colab_type": "code",
        "colab": {
          "base_uri": "https://localhost:8080/",
          "height": 51
        },
        "outputId": "39f8c68a-3c66-4dd2-aaea-a662f711f8c9"
      },
      "source": [
        "#a function is created to find the range\n",
        "\n",
        "def calculating_range(column):\n",
        "  maximum=ebola_df[column].max()\n",
        "  minimum=ebola_df[column].min()\n",
        "  column_range=maximum-minimum\n",
        "  return column_range\n",
        "\n",
        "for column in numerical_col:\n",
        "  print(f'Range for {column: <22} : {calculating_range(column)}')"
      ],
      "execution_count": null,
      "outputs": [
        {
          "output_type": "stream",
          "text": [
            "Range for no of confirmed cases  : 14122.0\n",
            "Range for no of confirmed deaths : 4806.0\n"
          ],
          "name": "stdout"
        }
      ]
    },
    {
      "cell_type": "markdown",
      "metadata": {
        "id": "Bvf4nLpT4O3Y",
        "colab_type": "text"
      },
      "source": [
        "**Inter Quartile Range**"
      ]
    },
    {
      "cell_type": "markdown",
      "metadata": {
        "id": "ezOquLbj4Pyy",
        "colab_type": "text"
      },
      "source": [
        "values that divide data into quarters provided the data is sort in ascending order.ie Q1(0.25), Q2(0.50), Q3(0.75) "
      ]
    },
    {
      "cell_type": "code",
      "metadata": {
        "id": "tQkg1aa33_D1",
        "colab_type": "code",
        "colab": {
          "base_uri": "https://localhost:8080/",
          "height": 51
        },
        "outputId": "7d060d1c-2ad8-4a9a-e28c-01c2af2aeb45"
      },
      "source": [
        "#for loop to calculate each quartile\n",
        "\n",
        "for column in numerical_col:\n",
        "  print(f'Quartiles for {column: <22} : Q1 - {list(ebola_df[column].quantile([0.25]))[0]: <7}\\\n",
        "  Q2 - {list(ebola_df[column].quantile([0.5]))[0]: <7}\\\n",
        "  Q3 - {list(ebola_df[column].quantile([0.75]))[0]}')"
      ],
      "execution_count": null,
      "outputs": [
        {
          "output_type": "stream",
          "text": [
            "Quartiles for no of confirmed cases  : Q1 - 1.0      Q2 - 8.0      Q3 - 3657.0\n",
            "Quartiles for no of confirmed deaths : Q1 - 0.0      Q2 - 6.0      Q3 - 2386.0\n"
          ],
          "name": "stdout"
        }
      ]
    },
    {
      "cell_type": "markdown",
      "metadata": {
        "id": "Zf6Ozpgv6BMg",
        "colab_type": "text"
      },
      "source": [
        "**Skewness**"
      ]
    },
    {
      "cell_type": "markdown",
      "metadata": {
        "id": "tYIgZ84l6BJp",
        "colab_type": "text"
      },
      "source": [
        " Is the measure of the asymmetry of the probability distribution of a real-valued random variable about its mean.\n",
        "Its value can either be positive, negative or undefined. In a perfect normal dist, the tails on either side of the curve are axact mirrors images of each other.\n",
        "\n",
        "When a distribution is skewed to the left, the tail on the curves left-hand side is longer than the one on the right, and the mean is less than the mode.This is called negative skewness.\n",
        "\n",
        "When a dist is skewed to the right, the tail on the left-hand side, and the mean is greater than the mode.This is positive skewness."
      ]
    },
    {
      "cell_type": "code",
      "metadata": {
        "id": "6N9D2Hc55jcY",
        "colab_type": "code",
        "colab": {
          "base_uri": "https://localhost:8080/",
          "height": 51
        },
        "outputId": "9508554a-efa8-4ef4-ecb3-047cae512da0"
      },
      "source": [
        "#calculatng skewness using for loop\n",
        "\n",
        "for column in numerical_col:\n",
        "  print(f'Skewness of {column: <22} : {ebola_df[column].skew()}')"
      ],
      "execution_count": null,
      "outputs": [
        {
          "output_type": "stream",
          "text": [
            "Skewness of no of confirmed cases  : 1.4921464696008508\n",
            "Skewness of no of confirmed deaths : 1.2195432668301713\n"
          ],
          "name": "stdout"
        }
      ]
    },
    {
      "cell_type": "markdown",
      "metadata": {
        "id": "SuL1Qu6X7CUO",
        "colab_type": "text"
      },
      "source": [
        "*both cases and deaths are positively skewed meaning that the mean is greater than the mode*"
      ]
    },
    {
      "cell_type": "markdown",
      "metadata": {
        "id": "PteLrHSl7PBo",
        "colab_type": "text"
      },
      "source": [
        "**Kurtosis**"
      ]
    },
    {
      "cell_type": "markdown",
      "metadata": {
        "id": "lfnH884t7SbC",
        "colab_type": "text"
      },
      "source": [
        "kurtosis is a measure of the \"tailedness\" of the probability distribution of a real-valued random variable. Kurtosis can also be defined as a measure of whether the data points are heavy-tailed (profusion of outliers) or light-tailed (lack of outliers) relative to a normal distribution. There are three types of Kurtosis: Mesokurtic, Leptokurtic and Platykurtic.\n",
        "\n",
        "Mesokurtic is the distribution which has similar kurtosis as normal distribution kurtosis, which is zero.\n",
        "\n",
        "Leptokurtic is the distribution which has kurtosis greater than a Mesokurtic distribution. Tails of such distributions are thick and heavy.\n",
        "\n",
        "Platykurtic is the distribution which has kurtosis lesser than a Mesokurtic distribution. Tails of such distributions thinner.\n",
        "\n",
        "If the kurtosis is close to 0, then a normal distribution is often assumed. These are called mesokurtic distributions.\n",
        "\n",
        "If the kurtosis is less than zero, then the distribution is light tails and is called a platykurtic distribution.\n",
        "\n",
        "If the kurtosis is greater than zero, then the distribution has heavier tails and is called a leptokurtic distribution."
      ]
    },
    {
      "cell_type": "code",
      "metadata": {
        "id": "Ne1FeaDI7AzI",
        "colab_type": "code",
        "colab": {
          "base_uri": "https://localhost:8080/",
          "height": 51
        },
        "outputId": "31ceb209-e8db-4071-b62c-bdf30e4e4d8e"
      },
      "source": [
        "#calculating kurtosis using for loop\n",
        "\n",
        "for column in numerical_col:\n",
        "  print(f'kurtosis for {column: <22} : {ebola_df[column].kurt()}')"
      ],
      "execution_count": null,
      "outputs": [
        {
          "output_type": "stream",
          "text": [
            "kurtosis for no of confirmed cases  : 0.6267310821315686\n",
            "kurtosis for no of confirmed deaths : -0.15309252675478557\n"
          ],
          "name": "stdout"
        }
      ]
    },
    {
      "cell_type": "markdown",
      "metadata": {
        "id": "oPEEvZOm7-Gn",
        "colab_type": "text"
      },
      "source": [
        "*in cases column, the kurt is 0.63 meaning its a mesokurtic distribution, we therefore we assume it forms a normal dist*\n",
        "\n",
        "*in deaths column, the kurts is -0.15 meaning its a platykururtic dist and its tail is light tail*"
      ]
    },
    {
      "cell_type": "markdown",
      "metadata": {
        "id": "CAdlcpXA9JcC",
        "colab_type": "text"
      },
      "source": [
        "**HISTOGRAM**"
      ]
    },
    {
      "cell_type": "markdown",
      "metadata": {
        "id": "qosOxxzbAtu3",
        "colab_type": "text"
      },
      "source": [
        "used to test whether the data is normally distributed\n",
        "the test consists of looking at the histogram and discerning whether it approximates the bell shaped of a normal dist."
      ]
    },
    {
      "cell_type": "code",
      "metadata": {
        "id": "OuS1MzI478EI",
        "colab_type": "code",
        "colab": {
          "base_uri": "https://localhost:8080/",
          "height": 663
        },
        "outputId": "e581a00a-9d4a-4187-8239-2200100c57bd"
      },
      "source": [
        "#the hist are plotted used hist\n",
        "#for loop used  to plot each numerical column\n",
        "#seaborn plotting style has been set to dark grid for visibility\n",
        "\n",
        "sns.set_style('darkgrid')\n",
        "fig, axes = plt.subplots(nrows=3, ncols=3, figsize=(15,10))\n",
        "fig.suptitle('Distribution for confirmed cases and deaths', color='magenta', fontsize=15)\n",
        "\n",
        "for ax, data, name in zip(axes.flatten(), ebola_df, numerical_col):\n",
        "  sns.distplot(ebola_df[name], ax = ax)"
      ],
      "execution_count": null,
      "outputs": [
        {
          "output_type": "display_data",
          "data": {
            "image/png": "[encoded data removed]",
            "text/plain": [
              "<Figure size 1080x720 with 9 Axes>"
            ]
          },
          "metadata": {
            "tags": []
          }
        }
      ]
    },
    {
      "cell_type": "markdown",
      "metadata": {
        "id": "WXOG-EzfEbJV",
        "colab_type": "text"
      },
      "source": [
        "**Boxplot**"
      ]
    },
    {
      "cell_type": "markdown",
      "metadata": {
        "id": "2z2IiFBSEdpv",
        "colab_type": "text"
      },
      "source": [
        "its a standerdized way of displaying the distribution of data based on a five number summary i.e (minimum, first quartile Q1, median, third quartile Q3 and maximum)\n",
        "it shows outliers and what values they are\n",
        "it can aslo tell if the data is symmetrical i.e how tightly the data is grouped, and how the data is skewed."
      ]
    },
    {
      "cell_type": "code",
      "metadata": {
        "id": "4PVzJD_JF2SR",
        "colab_type": "code",
        "colab": {
          "base_uri": "https://localhost:8080/",
          "height": 627
        },
        "outputId": "eb779b8a-81a9-46c8-cd77-565abf52be99"
      },
      "source": [
        "#plotting boxplot for each boxplot\n",
        "\n",
        "sns.set_style('darkgrid')\n",
        "fig, axes = plt.subplots(nrows=2, ncols=2, figsize=(15, 10))\n",
        "fig.suptitle('Box plot for confirmed cases and deaths', y=0.93, color='magenta', fontsize=15)\n",
        "\n",
        "for ax, data, name in zip(axes.flatten(), ebola_df, numerical_col):\n",
        "  sns.boxplot(ebola_df[name], ax=ax)"
      ],
      "execution_count": null,
      "outputs": [
        {
          "output_type": "display_data",
          "data": {
            "image/png": "[encoded data removed]",
            "text/plain": [
              "<Figure size 1080x720 with 4 Axes>"
            ]
          },
          "metadata": {
            "tags": []
          }
        }
      ]
    },
    {
      "cell_type": "markdown",
      "metadata": {
        "id": "eo_375ivIYcx",
        "colab_type": "text"
      },
      "source": [
        "*from the boxplots above no of confirmed cases has outliers while deaths has no outliers*"
      ]
    },
    {
      "cell_type": "code",
      "metadata": {
        "id": "s8_Xzoq8IGPL",
        "colab_type": "code",
        "colab": {
          "base_uri": "https://localhost:8080/",
          "height": 34
        },
        "outputId": "e7fdec9e-6fa0-461e-e987-e94f00f37e5d"
      },
      "source": [
        "#checking for outliers using IQR\n",
        "\n",
        "ebola_df1=numerical_col  #creating df for only numerical col\n",
        "Q1 = ebola_df1.quantile(0.25)         #calculating the first quantile\n",
        "Q3 = ebola_df1.quantile(0.75)         #calculating the third quantile\n",
        "\n",
        "IQR = Q3 -Q1      #difference between the two quantiles\n",
        "\n",
        "# Previweing the first five columns which contain outliers\n",
        "#\n",
        "((ebola_df1 < Q1 - 1.5 * IQR) | (ebola_df1 > Q3 + 1.5 * IQR))\n",
        "\n",
        "#checking how many outliers in the dataset\n",
        "len(ebola_df1[((ebola_df1 < Q1 - 1.5 * IQR) | (ebola_df1 > Q3 + 1.5 * IQR)).any(axis = 1)])\n"
      ],
      "execution_count": null,
      "outputs": [
        {
          "output_type": "execute_result",
          "data": {
            "text/plain": [
              "411"
            ]
          },
          "metadata": {
            "tags": []
          },
          "execution_count": 30
        }
      ]
    },
    {
      "cell_type": "markdown",
      "metadata": {
        "id": "LE5X5O9ALl2w",
        "colab_type": "text"
      },
      "source": [
        "*decided to leave the outliers because the are relevant to the dataset as they colud be very high cases of confirmed ebola*"
      ]
    },
    {
      "cell_type": "code",
      "metadata": {
        "id": "2PajinQqDDC7",
        "colab_type": "code",
        "colab": {
          "base_uri": "https://localhost:8080/",
          "height": 289
        },
        "outputId": "13f62d3f-11e8-4676-a7f6-25d72aacccc8"
      },
      "source": [
        "#plotting barcharts of countries count\n",
        "plt.figure(figsize=(20,5))\n",
        "sns.countplot(ebola_df['Country'])"
      ],
      "execution_count": null,
      "outputs": [
        {
          "output_type": "execute_result",
          "data": {
            "text/plain": [
              "<matplotlib.axes._subplots.AxesSubplot at 0x7f6b8918b198>"
            ]
          },
          "metadata": {
            "tags": []
          },
          "execution_count": 31
        },
        {
          "output_type": "display_data",
          "data": {
            "image/png": "[encoded data removed]",
            "text/plain": [
              "<Figure size 1440x360 with 1 Axes>"
            ]
          },
          "metadata": {
            "tags": []
          }
        }
      ]
    },
    {
      "cell_type": "markdown",
      "metadata": {
        "id": "-t3IZy_T26x_",
        "colab_type": "text"
      },
      "source": [
        "*from the countplot, liberia has the highest count while italy has the lowest count*"
      ]
    },
    {
      "cell_type": "code",
      "metadata": {
        "id": "D_LsPcGD2hEL",
        "colab_type": "code",
        "colab": {
          "base_uri": "https://localhost:8080/",
          "height": 390
        },
        "outputId": "e38218b9-034f-4237-87a8-4063d173c3be"
      },
      "source": [
        "ebola_df.groupby(['Country']).sum().sort_values(by='no of confirmed deaths', ascending=False)"
      ],
      "execution_count": null,
      "outputs": [
        {
          "output_type": "execute_result",
          "data": {
            "text/html": [
              "<div>\n",
              "<style scoped>\n",
              "    .dataframe tbody tr th:only-of-type {\n",
              "        vertical-align: middle;\n",
              "    }\n",
              "\n",
              "    .dataframe tbody tr th {\n",
              "        vertical-align: top;\n",
              "    }\n",
              "\n",
              "    .dataframe thead th {\n",
              "        text-align: right;\n",
              "    }\n",
              "</style>\n",
              "<table border=\"1\" class=\"dataframe\">\n",
              "  <thead>\n",
              "    <tr style=\"text-align: right;\">\n",
              "      <th></th>\n",
              "      <th>no of confirmed cases</th>\n",
              "      <th>no of confirmed deaths</th>\n",
              "    </tr>\n",
              "    <tr>\n",
              "      <th>Country</th>\n",
              "      <th></th>\n",
              "      <th></th>\n",
              "    </tr>\n",
              "  </thead>\n",
              "  <tbody>\n",
              "    <tr>\n",
              "      <th>Liberia</th>\n",
              "      <td>2459122.0</td>\n",
              "      <td>1099833.0</td>\n",
              "    </tr>\n",
              "    <tr>\n",
              "      <th>Sierra Leone</th>\n",
              "      <td>3003428.0</td>\n",
              "      <td>888834.0</td>\n",
              "    </tr>\n",
              "    <tr>\n",
              "      <th>Guinea</th>\n",
              "      <td>854118.0</td>\n",
              "      <td>563069.0</td>\n",
              "    </tr>\n",
              "    <tr>\n",
              "      <th>Nigeria</th>\n",
              "      <td>5105.0</td>\n",
              "      <td>2039.0</td>\n",
              "    </tr>\n",
              "    <tr>\n",
              "      <th>Mali</th>\n",
              "      <td>1865.0</td>\n",
              "      <td>1427.0</td>\n",
              "    </tr>\n",
              "    <tr>\n",
              "      <th>United States of America</th>\n",
              "      <td>967.0</td>\n",
              "      <td>242.0</td>\n",
              "    </tr>\n",
              "    <tr>\n",
              "      <th>Italy</th>\n",
              "      <td>141.0</td>\n",
              "      <td>0.0</td>\n",
              "    </tr>\n",
              "    <tr>\n",
              "      <th>Senegal</th>\n",
              "      <td>258.0</td>\n",
              "      <td>0.0</td>\n",
              "    </tr>\n",
              "    <tr>\n",
              "      <th>Spain</th>\n",
              "      <td>243.0</td>\n",
              "      <td>0.0</td>\n",
              "    </tr>\n",
              "    <tr>\n",
              "      <th>United Kingdom</th>\n",
              "      <td>215.0</td>\n",
              "      <td>0.0</td>\n",
              "    </tr>\n",
              "  </tbody>\n",
              "</table>\n",
              "</div>"
            ],
            "text/plain": [
              "                          no of confirmed cases  no of confirmed deaths\n",
              "Country                                                                \n",
              "Liberia                               2459122.0               1099833.0\n",
              "Sierra Leone                          3003428.0                888834.0\n",
              "Guinea                                 854118.0                563069.0\n",
              "Nigeria                                  5105.0                  2039.0\n",
              "Mali                                     1865.0                  1427.0\n",
              "United States of America                  967.0                   242.0\n",
              "Italy                                     141.0                     0.0\n",
              "Senegal                                   258.0                     0.0\n",
              "Spain                                     243.0                     0.0\n",
              "United Kingdom                            215.0                     0.0"
            ]
          },
          "metadata": {
            "tags": []
          },
          "execution_count": 32
        }
      ]
    },
    {
      "cell_type": "markdown",
      "metadata": {
        "id": "l1-ieeqa9Rtx",
        "colab_type": "text"
      },
      "source": [
        "*Sierra leone has the highest number of confirmed cases while Liberia has the highest number of deaths*"
      ]
    },
    {
      "cell_type": "markdown",
      "metadata": {
        "id": "RFNXPZIO-NmR",
        "colab_type": "text"
      },
      "source": [
        "### 5) Bivariate Analysis"
      ]
    },
    {
      "cell_type": "code",
      "metadata": {
        "id": "N236yeaQAice",
        "colab_type": "code",
        "colab": {
          "base_uri": "https://localhost:8080/",
          "height": 404
        },
        "outputId": "9fb512ca-6c83-477e-c10d-3596c358928f"
      },
      "source": [
        "#pairplots\n",
        "sns.pairplot(data=ebola_df)"
      ],
      "execution_count": null,
      "outputs": [
        {
          "output_type": "execute_result",
          "data": {
            "text/plain": [
              "<seaborn.axisgrid.PairGrid at 0x7f6b892ca2b0>"
            ]
          },
          "metadata": {
            "tags": []
          },
          "execution_count": 33
        },
        {
          "output_type": "display_data",
          "data": {
            "image/png": "[encoded data removed]",
            "text/plain": [
              "<Figure size 360x360 with 6 Axes>"
            ]
          },
          "metadata": {
            "tags": []
          }
        }
      ]
    },
    {
      "cell_type": "markdown",
      "metadata": {
        "id": "NFTPcGr_CbUE",
        "colab_type": "text"
      },
      "source": [
        "*the almost form a normal distribution*"
      ]
    },
    {
      "cell_type": "code",
      "metadata": {
        "id": "pfAEJo-BCmt8",
        "colab_type": "code",
        "colab": {
          "base_uri": "https://localhost:8080/",
          "height": 406
        },
        "outputId": "495db5e1-3243-4afd-8e90-764ddae3db70"
      },
      "source": [
        "#plotting scatter plot of deaths and cases\n",
        "#\n",
        "fig = plt.figure(figsize = (10, 6))\n",
        "sns.scatterplot(ebola_df['no of confirmed cases'], ebola_df['no of confirmed deaths'], color = 'purple')\n",
        "plt.title('Scatter plot for slots taken VS slots freed', color = 'purple', fontdict={'size': 15})\n",
        "plt.show()"
      ],
      "execution_count": null,
      "outputs": [
        {
          "output_type": "display_data",
          "data": {
            "image/png": "[encoded data removed]",
            "text/plain": [
              "<Figure size 720x432 with 1 Axes>"
            ]
          },
          "metadata": {
            "tags": []
          }
        }
      ]
    },
    {
      "cell_type": "code",
      "metadata": {
        "id": "k4Uh1JudDqi7",
        "colab_type": "code",
        "colab": {
          "base_uri": "https://localhost:8080/",
          "height": 111
        },
        "outputId": "c3d2b585-d4fc-40d3-e39b-14ca41cf47b4"
      },
      "source": [
        "#correlation of cases and deaths confirmed\n",
        "#pandas corr() function is used to find the correlation\n",
        "\n",
        "ebola_df.corr()\n"
      ],
      "execution_count": null,
      "outputs": [
        {
          "output_type": "execute_result",
          "data": {
            "text/html": [
              "<div>\n",
              "<style scoped>\n",
              "    .dataframe tbody tr th:only-of-type {\n",
              "        vertical-align: middle;\n",
              "    }\n",
              "\n",
              "    .dataframe tbody tr th {\n",
              "        vertical-align: top;\n",
              "    }\n",
              "\n",
              "    .dataframe thead th {\n",
              "        text-align: right;\n",
              "    }\n",
              "</style>\n",
              "<table border=\"1\" class=\"dataframe\">\n",
              "  <thead>\n",
              "    <tr style=\"text-align: right;\">\n",
              "      <th></th>\n",
              "      <th>no of confirmed cases</th>\n",
              "      <th>no of confirmed deaths</th>\n",
              "    </tr>\n",
              "  </thead>\n",
              "  <tbody>\n",
              "    <tr>\n",
              "      <th>no of confirmed cases</th>\n",
              "      <td>1.0000</td>\n",
              "      <td>0.9558</td>\n",
              "    </tr>\n",
              "    <tr>\n",
              "      <th>no of confirmed deaths</th>\n",
              "      <td>0.9558</td>\n",
              "      <td>1.0000</td>\n",
              "    </tr>\n",
              "  </tbody>\n",
              "</table>\n",
              "</div>"
            ],
            "text/plain": [
              "                        no of confirmed cases  no of confirmed deaths\n",
              "no of confirmed cases                  1.0000                  0.9558\n",
              "no of confirmed deaths                 0.9558                  1.0000"
            ]
          },
          "metadata": {
            "tags": []
          },
          "execution_count": 35
        }
      ]
    },
    {
      "cell_type": "code",
      "metadata": {
        "id": "glirrl9YF6Qs",
        "colab_type": "code",
        "colab": {
          "base_uri": "https://localhost:8080/",
          "height": 455
        },
        "outputId": "a813a6bc-cfb1-4076-de70-faaba8507ab9"
      },
      "source": [
        "#heatmap correlation\n",
        "\n",
        "plt.figure(figsize= (10,7))\n",
        "sns.heatmap(ebola_df.corr(), annot=True, cmap='rainbow', linewidths=0.1, vmax=1.0, linecolor='white', square=False)\n",
        "plt.title('Heatmap showing ebola numerical features cases', color='m', pad=15, fontdict={'size': 15})\n",
        "plt.show()"
      ],
      "execution_count": null,
      "outputs": [
        {
          "output_type": "display_data",
          "data": {
            "image/png": "[encoded data removed]",
            "text/plain": [
              "<Figure size 720x504 with 2 Axes>"
            ]
          },
          "metadata": {
            "tags": []
          }
        }
      ]
    },
    {
      "cell_type": "markdown",
      "metadata": {
        "id": "hLReom4NGtYr",
        "colab_type": "text"
      },
      "source": [
        "*shows positive correlation*"
      ]
    },
    {
      "cell_type": "code",
      "metadata": {
        "id": "abNRZGAq7RXC",
        "colab_type": "code",
        "colab": {
          "base_uri": "https://localhost:8080/",
          "height": 351
        },
        "outputId": "6ec70d2f-c9fb-4909-b5a0-0af0e5c3265d"
      },
      "source": [
        "#plotting graphs of cases and deaths in diff countries\n",
        "\n",
        "plt.figure(figsize=(15,5))\n",
        "sns.barplot(x='Country', y='no of confirmed cases', data=ebola_df)"
      ],
      "execution_count": null,
      "outputs": [
        {
          "output_type": "execute_result",
          "data": {
            "text/plain": [
              "<matplotlib.axes._subplots.AxesSubplot at 0x7f6b89b62be0>"
            ]
          },
          "metadata": {
            "tags": []
          },
          "execution_count": 37
        },
        {
          "output_type": "display_data",
          "data": {
            "image/png": "[encoded data removed]",
            "text/plain": [
              "<Figure size 1080x360 with 1 Axes>"
            ]
          },
          "metadata": {
            "tags": []
          }
        }
      ]
    },
    {
      "cell_type": "markdown",
      "metadata": {
        "id": "doTVugUk_nAh",
        "colab_type": "text"
      },
      "source": [
        "*sierra leone has the highest number of confimrd cases*"
      ]
    },
    {
      "cell_type": "code",
      "metadata": {
        "id": "UWNLnAdH8ex9",
        "colab_type": "code",
        "colab": {
          "base_uri": "https://localhost:8080/",
          "height": 256
        },
        "outputId": "f250d191-2f6c-4955-e750-1e616c4339f7"
      },
      "source": [
        "plt.figure(figsize=(15,5))\n",
        "sns.barplot(x='Country', y='no of confirmed deaths', data=ebola_df)"
      ],
      "execution_count": null,
      "outputs": [
        {
          "output_type": "execute_result",
          "data": {
            "text/plain": [
              "<matplotlib.axes._subplots.AxesSubplot at 0x7f6b899d6240>"
            ]
          },
          "metadata": {
            "tags": []
          },
          "execution_count": 38
        },
        {
          "output_type": "display_data",
          "data": {
            "image/png": "[encoded data removed]",
            "text/plain": [
              "<Figure size 1080x360 with 1 Axes>"
            ]
          },
          "metadata": {
            "tags": []
          }
        }
      ]
    },
    {
      "cell_type": "markdown",
      "metadata": {
        "id": "7GuDk6EmAYQb",
        "colab_type": "text"
      },
      "source": [
        "*sierra leone recorded the highest number of deaths*"
      ]
    },
    {
      "cell_type": "markdown",
      "metadata": {
        "id": "g9ivzx9_HmHd",
        "colab_type": "text"
      },
      "source": [
        "### 6) Multivariate Analysis"
      ]
    },
    {
      "cell_type": "code",
      "metadata": {
        "id": "OzSIIANEHr0v",
        "colab_type": "code",
        "colab": {}
      },
      "source": [
        ""
      ],
      "execution_count": null,
      "outputs": []
    },
    {
      "cell_type": "markdown",
      "metadata": {
        "id": "XqI_m7m8IMaT",
        "colab_type": "text"
      },
      "source": [
        "### 7) Hypothesis Testing"
      ]
    },
    {
      "cell_type": "markdown",
      "metadata": {
        "id": "WLoZ1ZTJIR9x",
        "colab_type": "text"
      },
      "source": [
        "**Hypothesis 1**\n",
        "\n",
        "The average number of deaths in sierra leonne is the same as that in Liberia.\n",
        "\n",
        "Ho: mu1 = mu2\n",
        "\n",
        "H1: mu1 != mu2"
      ]
    },
    {
      "cell_type": "code",
      "metadata": {
        "id": "w55QNTgjuxZm",
        "colab_type": "code",
        "colab": {
          "base_uri": "https://localhost:8080/",
          "height": 204
        },
        "outputId": "b4fa8cda-761a-491f-e0ea-fa01b763fc40"
      },
      "source": [
        "#selecting relevant data\n",
        "#for liberia\n",
        "lib_df=ebola_df[ebola_df['Country'] == 'Liberia']\n",
        "lib_df.head()"
      ],
      "execution_count": null,
      "outputs": [
        {
          "output_type": "execute_result",
          "data": {
            "text/html": [
              "<div>\n",
              "<style scoped>\n",
              "    .dataframe tbody tr th:only-of-type {\n",
              "        vertical-align: middle;\n",
              "    }\n",
              "\n",
              "    .dataframe tbody tr th {\n",
              "        vertical-align: top;\n",
              "    }\n",
              "\n",
              "    .dataframe thead th {\n",
              "        text-align: right;\n",
              "    }\n",
              "</style>\n",
              "<table border=\"1\" class=\"dataframe\">\n",
              "  <thead>\n",
              "    <tr style=\"text-align: right;\">\n",
              "      <th></th>\n",
              "      <th>Country</th>\n",
              "      <th>Date</th>\n",
              "      <th>no of confirmed cases</th>\n",
              "      <th>no of confirmed deaths</th>\n",
              "    </tr>\n",
              "  </thead>\n",
              "  <tbody>\n",
              "    <tr>\n",
              "      <th>3</th>\n",
              "      <td>Liberia</td>\n",
              "      <td>2014-08-29</td>\n",
              "      <td>1378.0</td>\n",
              "      <td>694.0</td>\n",
              "    </tr>\n",
              "    <tr>\n",
              "      <th>6</th>\n",
              "      <td>Liberia</td>\n",
              "      <td>2014-09-05</td>\n",
              "      <td>1871.0</td>\n",
              "      <td>1089.0</td>\n",
              "    </tr>\n",
              "    <tr>\n",
              "      <th>12</th>\n",
              "      <td>Liberia</td>\n",
              "      <td>2014-09-08</td>\n",
              "      <td>2046.0</td>\n",
              "      <td>1224.0</td>\n",
              "    </tr>\n",
              "    <tr>\n",
              "      <th>17</th>\n",
              "      <td>Liberia</td>\n",
              "      <td>2014-09-12</td>\n",
              "      <td>2081.0</td>\n",
              "      <td>1137.0</td>\n",
              "    </tr>\n",
              "    <tr>\n",
              "      <th>23</th>\n",
              "      <td>Liberia</td>\n",
              "      <td>2014-09-16</td>\n",
              "      <td>2407.0</td>\n",
              "      <td>1296.0</td>\n",
              "    </tr>\n",
              "  </tbody>\n",
              "</table>\n",
              "</div>"
            ],
            "text/plain": [
              "    Country       Date  no of confirmed cases  no of confirmed deaths\n",
              "3   Liberia 2014-08-29                 1378.0                   694.0\n",
              "6   Liberia 2014-09-05                 1871.0                  1089.0\n",
              "12  Liberia 2014-09-08                 2046.0                  1224.0\n",
              "17  Liberia 2014-09-12                 2081.0                  1137.0\n",
              "23  Liberia 2014-09-16                 2407.0                  1296.0"
            ]
          },
          "metadata": {
            "tags": []
          },
          "execution_count": 90
        }
      ]
    },
    {
      "cell_type": "code",
      "metadata": {
        "id": "zyYqCcGZ5Y1p",
        "colab_type": "code",
        "colab": {
          "base_uri": "https://localhost:8080/",
          "height": 221
        },
        "outputId": "4916e6bc-5d8b-43d2-bed8-d307ee278645"
      },
      "source": [
        "lib_df['no of confirmed deaths']"
      ],
      "execution_count": null,
      "outputs": [
        {
          "output_type": "execute_result",
          "data": {
            "text/plain": [
              "3        694.0\n",
              "6       1089.0\n",
              "12      1224.0\n",
              "17      1137.0\n",
              "23      1296.0\n",
              "         ...  \n",
              "2465    4806.0\n",
              "2466       3.0\n",
              "2479       3.0\n",
              "2480    4806.0\n",
              "2482       4.0\n",
              "Name: no of confirmed deaths, Length: 365, dtype: float64"
            ]
          },
          "metadata": {
            "tags": []
          },
          "execution_count": 98
        }
      ]
    },
    {
      "cell_type": "code",
      "metadata": {
        "id": "7-UcpyDx3udx",
        "colab_type": "code",
        "colab": {
          "base_uri": "https://localhost:8080/",
          "height": 34
        },
        "outputId": "115961ff-5123-406c-e99b-fb23c18cc33b"
      },
      "source": [
        "#pop mean of deaths in liberia\n",
        "lib_df['no of confirmed deaths'].mean()"
      ],
      "execution_count": null,
      "outputs": [
        {
          "output_type": "execute_result",
          "data": {
            "text/plain": [
              "3013.241095890411"
            ]
          },
          "metadata": {
            "tags": []
          },
          "execution_count": 95
        }
      ]
    },
    {
      "cell_type": "code",
      "metadata": {
        "id": "RUlq_1VE5puz",
        "colab_type": "code",
        "colab": {}
      },
      "source": [
        "libdeaths=lib_df['no of confirmed deaths'].values\n",
        "libdeaths"
      ],
      "execution_count": null,
      "outputs": []
    },
    {
      "cell_type": "code",
      "metadata": {
        "id": "uP4QwuRmvHhm",
        "colab_type": "code",
        "colab": {
          "base_uri": "https://localhost:8080/",
          "height": 204
        },
        "outputId": "b08f36cb-0b50-4a67-c00d-ff30dab861d4"
      },
      "source": [
        "#for sierra leone\n",
        "sierra_df=ebola_df[ebola_df['Country'] == 'Sierra Leone']\n",
        "sierra_df.head()"
      ],
      "execution_count": null,
      "outputs": [
        {
          "output_type": "execute_result",
          "data": {
            "text/html": [
              "<div>\n",
              "<style scoped>\n",
              "    .dataframe tbody tr th:only-of-type {\n",
              "        vertical-align: middle;\n",
              "    }\n",
              "\n",
              "    .dataframe tbody tr th {\n",
              "        vertical-align: top;\n",
              "    }\n",
              "\n",
              "    .dataframe thead th {\n",
              "        text-align: right;\n",
              "    }\n",
              "</style>\n",
              "<table border=\"1\" class=\"dataframe\">\n",
              "  <thead>\n",
              "    <tr style=\"text-align: right;\">\n",
              "      <th></th>\n",
              "      <th>Country</th>\n",
              "      <th>Date</th>\n",
              "      <th>no of confirmed cases</th>\n",
              "      <th>no of confirmed deaths</th>\n",
              "    </tr>\n",
              "  </thead>\n",
              "  <tbody>\n",
              "    <tr>\n",
              "      <th>2</th>\n",
              "      <td>Sierra Leone</td>\n",
              "      <td>2014-08-29</td>\n",
              "      <td>1026.0</td>\n",
              "      <td>422.0</td>\n",
              "    </tr>\n",
              "    <tr>\n",
              "      <th>4</th>\n",
              "      <td>Sierra Leone</td>\n",
              "      <td>2014-09-05</td>\n",
              "      <td>1261.0</td>\n",
              "      <td>491.0</td>\n",
              "    </tr>\n",
              "    <tr>\n",
              "      <th>11</th>\n",
              "      <td>Sierra Leone</td>\n",
              "      <td>2014-09-08</td>\n",
              "      <td>1361.0</td>\n",
              "      <td>509.0</td>\n",
              "    </tr>\n",
              "    <tr>\n",
              "      <th>15</th>\n",
              "      <td>Sierra Leone</td>\n",
              "      <td>2014-09-12</td>\n",
              "      <td>1424.0</td>\n",
              "      <td>524.0</td>\n",
              "    </tr>\n",
              "    <tr>\n",
              "      <th>20</th>\n",
              "      <td>Sierra Leone</td>\n",
              "      <td>2014-09-16</td>\n",
              "      <td>1620.0</td>\n",
              "      <td>562.0</td>\n",
              "    </tr>\n",
              "  </tbody>\n",
              "</table>\n",
              "</div>"
            ],
            "text/plain": [
              "         Country       Date  no of confirmed cases  no of confirmed deaths\n",
              "2   Sierra Leone 2014-08-29                 1026.0                   422.0\n",
              "4   Sierra Leone 2014-09-05                 1261.0                   491.0\n",
              "11  Sierra Leone 2014-09-08                 1361.0                   509.0\n",
              "15  Sierra Leone 2014-09-12                 1424.0                   524.0\n",
              "20  Sierra Leone 2014-09-16                 1620.0                   562.0"
            ]
          },
          "metadata": {
            "tags": []
          },
          "execution_count": 91
        }
      ]
    },
    {
      "cell_type": "code",
      "metadata": {
        "id": "AN0rT56N4a60",
        "colab_type": "code",
        "colab": {
          "base_uri": "https://localhost:8080/",
          "height": 34
        },
        "outputId": "22d1fc5c-2f58-44fc-ab6e-1b13dacc32eb"
      },
      "source": [
        "#avg no of deaths in sierra\n",
        "sierra_df['no of confirmed deaths'].mean()"
      ],
      "execution_count": null,
      "outputs": [
        {
          "output_type": "execute_result",
          "data": {
            "text/plain": [
              "3431.7915057915056"
            ]
          },
          "metadata": {
            "tags": []
          },
          "execution_count": 96
        }
      ]
    },
    {
      "cell_type": "code",
      "metadata": {
        "id": "gU7yy_6l6DDk",
        "colab_type": "code",
        "colab": {}
      },
      "source": [
        "sierradeaths=sierra_df['no of confirmed cases'].values"
      ],
      "execution_count": null,
      "outputs": []
    },
    {
      "cell_type": "code",
      "metadata": {
        "id": "1PgobPTJ2kEv",
        "colab_type": "code",
        "colab": {}
      },
      "source": [
        "#sampling\n",
        "#choosing a sample of 50 from liberia\n",
        "\n",
        "samplib=libdeaths[np.argsort(np.random.random_sample(len(lib_df)))[:50]]"
      ],
      "execution_count": null,
      "outputs": []
    },
    {
      "cell_type": "code",
      "metadata": {
        "id": "Ayo37tGi6MdD",
        "colab_type": "code",
        "colab": {
          "base_uri": "https://localhost:8080/",
          "height": 136
        },
        "outputId": "0d322972-b11e-4d6f-bb3a-19795d9d2cb6"
      },
      "source": [
        "#choosing a sample of 50 from sierra\n",
        "sampsierra=sierradeaths[np.argsort(np.random.random_sample(len(sierra_df)))[:50]]\n",
        "sampsierra"
      ],
      "execution_count": null,
      "outputs": [
        {
          "output_type": "execute_result",
          "data": {
            "text/plain": [
              "array([13135., 12267., 11155., 13262., 13465., 13928., 14122., 12313.,\n",
              "       12827.,  6190.,  2950., 12962., 12523.,  4862., 10934., 11619.,\n",
              "       14122., 10030., 12440., 13470., 12362., 12426., 11517., 11696.,\n",
              "       11103., 13387., 14122., 14122., 13290., 14122., 11794., 12816.,\n",
              "       12932.,  9780., 14001., 11301., 13489., 11497., 11677.,  9772.,\n",
              "       10561., 11103.,  6599.,  9780.,  5235., 13582., 13982., 13402.,\n",
              "        1361., 12223.])"
            ]
          },
          "metadata": {
            "tags": []
          },
          "execution_count": 111
        }
      ]
    },
    {
      "cell_type": "code",
      "metadata": {
        "id": "-7gb1NlH6Pkw",
        "colab_type": "code",
        "colab": {
          "base_uri": "https://localhost:8080/",
          "height": 51
        },
        "outputId": "a0752b6b-5d09-4c0d-b020-0b4dd971df8c"
      },
      "source": [
        "#calculating pop variance of liberia and sierra leone\n",
        "\n",
        "varlib=np.var(lib_df)\n",
        "varsierra=np.var(sierra_df)\n",
        "\n",
        "samp_lib_mean=np.mean(samplib)\n",
        "samp_sierra_mean=np.mean(sampsierra)\n",
        "\n",
        "print(samp_lib_mean)\n",
        "print(samp_sierra_mean)"
      ],
      "execution_count": null,
      "outputs": [
        {
          "output_type": "stream",
          "text": [
            "2862.24\n",
            "11472.2\n"
          ],
          "name": "stdout"
        }
      ]
    },
    {
      "cell_type": "code",
      "metadata": {
        "id": "hg7LZqMS9k5g",
        "colab_type": "code",
        "colab": {
          "base_uri": "https://localhost:8080/",
          "height": 333
        },
        "outputId": "b2da6270-8377-40ff-8c66-788759d939b7"
      },
      "source": [
        "#calculate ztest\n",
        "\n",
        "import math\n",
        "(samp_lib_mean-samp_sierra_mean)-(0)/(math.sqrt((varlib/50)+(varsierra/50)))\n",
        "# (meanOfSampF-meanOfSampM) - (0) / (math.sqrt((varPopF/50)+(varPopM/50)))"
      ],
      "execution_count": null,
      "outputs": [
        {
          "output_type": "error",
          "ename": "TypeError",
          "evalue": "ignored",
          "traceback": [
            "\u001b[0;31m---------------------------------------------------------------------------\u001b[0m",
            "\u001b[0;31mTypeError\u001b[0m                                 Traceback (most recent call last)",
            "\u001b[0;32m<ipython-input-114-5033f1954341>\u001b[0m in \u001b[0;36m<module>\u001b[0;34m()\u001b[0m\n\u001b[1;32m      2\u001b[0m \u001b[0;34m\u001b[0m\u001b[0m\n\u001b[1;32m      3\u001b[0m \u001b[0;32mimport\u001b[0m \u001b[0mmath\u001b[0m\u001b[0;34m\u001b[0m\u001b[0;34m\u001b[0m\u001b[0m\n\u001b[0;32m----> 4\u001b[0;31m \u001b[0;34m(\u001b[0m\u001b[0msamp_lib_mean\u001b[0m\u001b[0;34m-\u001b[0m\u001b[0msamp_sierra_mean\u001b[0m\u001b[0;34m)\u001b[0m\u001b[0;34m-\u001b[0m\u001b[0;34m(\u001b[0m\u001b[0;36m0\u001b[0m\u001b[0;34m)\u001b[0m\u001b[0;34m/\u001b[0m\u001b[0;34m(\u001b[0m\u001b[0mmath\u001b[0m\u001b[0;34m.\u001b[0m\u001b[0msqrt\u001b[0m\u001b[0;34m(\u001b[0m\u001b[0;34m(\u001b[0m\u001b[0mvarlib\u001b[0m\u001b[0;34m/\u001b[0m\u001b[0;36m50\u001b[0m\u001b[0;34m)\u001b[0m\u001b[0;34m+\u001b[0m\u001b[0;34m(\u001b[0m\u001b[0mvarsierra\u001b[0m\u001b[0;34m/\u001b[0m\u001b[0;36m50\u001b[0m\u001b[0;34m)\u001b[0m\u001b[0;34m)\u001b[0m\u001b[0;34m)\u001b[0m\u001b[0;34m\u001b[0m\u001b[0;34m\u001b[0m\u001b[0m\n\u001b[0m\u001b[1;32m      5\u001b[0m \u001b[0;31m# (meanOfSampF-meanOfSampM) - (0) / (math.sqrt((varPopF/50)+(varPopM/50)))\u001b[0m\u001b[0;34m\u001b[0m\u001b[0;34m\u001b[0m\u001b[0;34m\u001b[0m\u001b[0m\n",
            "\u001b[0;32m/usr/local/lib/python3.6/dist-packages/pandas/core/series.py\u001b[0m in \u001b[0;36mwrapper\u001b[0;34m(self)\u001b[0m\n\u001b[1;32m    110\u001b[0m         \u001b[0;32mif\u001b[0m \u001b[0mlen\u001b[0m\u001b[0;34m(\u001b[0m\u001b[0mself\u001b[0m\u001b[0;34m)\u001b[0m \u001b[0;34m==\u001b[0m \u001b[0;36m1\u001b[0m\u001b[0;34m:\u001b[0m\u001b[0;34m\u001b[0m\u001b[0;34m\u001b[0m\u001b[0m\n\u001b[1;32m    111\u001b[0m             \u001b[0;32mreturn\u001b[0m \u001b[0mconverter\u001b[0m\u001b[0;34m(\u001b[0m\u001b[0mself\u001b[0m\u001b[0;34m.\u001b[0m\u001b[0miloc\u001b[0m\u001b[0;34m[\u001b[0m\u001b[0;36m0\u001b[0m\u001b[0;34m]\u001b[0m\u001b[0;34m)\u001b[0m\u001b[0;34m\u001b[0m\u001b[0;34m\u001b[0m\u001b[0m\n\u001b[0;32m--> 112\u001b[0;31m         \u001b[0;32mraise\u001b[0m \u001b[0mTypeError\u001b[0m\u001b[0;34m(\u001b[0m\u001b[0;34mf\"cannot convert the series to {converter}\"\u001b[0m\u001b[0;34m)\u001b[0m\u001b[0;34m\u001b[0m\u001b[0;34m\u001b[0m\u001b[0m\n\u001b[0m\u001b[1;32m    113\u001b[0m \u001b[0;34m\u001b[0m\u001b[0m\n\u001b[1;32m    114\u001b[0m     \u001b[0mwrapper\u001b[0m\u001b[0;34m.\u001b[0m\u001b[0m__name__\u001b[0m \u001b[0;34m=\u001b[0m \u001b[0;34mf\"__{converter.__name__}__\"\u001b[0m\u001b[0;34m\u001b[0m\u001b[0;34m\u001b[0m\u001b[0m\n",
            "\u001b[0;31mTypeError\u001b[0m: cannot convert the series to <class 'float'>"
          ]
        }
      ]
    },
    {
      "cell_type": "code",
      "metadata": {
        "id": "EuLuyvVS9_uE",
        "colab_type": "code",
        "colab": {}
      },
      "source": [
        ""
      ],
      "execution_count": null,
      "outputs": []
    },
    {
      "cell_type": "code",
      "metadata": {
        "id": "NcT7cRBluUJi",
        "colab_type": "code",
        "colab": {}
      },
      "source": [
        ""
      ],
      "execution_count": null,
      "outputs": []
    },
    {
      "cell_type": "markdown",
      "metadata": {
        "id": "TrMTgWGluU6d",
        "colab_type": "text"
      },
      "source": [
        "### 8) Modelling"
      ]
    },
    {
      "cell_type": "code",
      "metadata": {
        "id": "uX_-k-SWuY9G",
        "colab_type": "code",
        "colab": {}
      },
      "source": [
        "#independent cases , dependent deaths"
      ],
      "execution_count": null,
      "outputs": []
    }
  ]
}