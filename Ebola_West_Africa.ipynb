{
  "nbformat": 4,
  "nbformat_minor": 0,
  "metadata": {
    "colab": {
      "name": "Ebola West Africa",
      "provenance": [],
      "collapsed_sections": [],
      "toc_visible": true,
      "authorship_tag": "ABX9TyPxxDr1/tj3ayMBRku7IHQ4",
      "include_colab_link": true
    },
    "kernelspec": {
      "name": "python3",
      "display_name": "Python 3"
    }
  },
  "cells": [
    {
      "cell_type": "markdown",
      "metadata": {
        "id": "view-in-github",
        "colab_type": "text"
      },
      "source": [
        "<a href=\"https://colab.research.google.com/github/Gakori/Ebola-cases/blob/master/Ebola_West_Africa.ipynb\" target=\"_parent\"><img src=\"https://colab.research.google.com/assets/colab-badge.svg\" alt=\"Open In Colab\"/></a>"
      ]
    },
    {
      "cell_type": "markdown",
      "metadata": {
        "id": "Srhe4sT5hDTE",
        "colab_type": "text"
      },
      "source": [
        "### 1) RESEARCH QUESTION\n",
        "\n",
        "Ebola is an outbreak that occured in west Africa and spread to other countries in west africa. Investigate the effects of the outbreak to the population considering the number of deaths and the number of affected people in different countries.\n",
        "\n",
        "### Hypothesis 1\n",
        "\n",
        "\n",
        "### Metric for success\n",
        "investigated the numbers of affected people and deaths in West Africa\n",
        "\n",
        "### Understanding the context\n",
        "\n",
        "### recording experimantal design\n",
        "\n",
        "i) Business understanding\n",
        "\n",
        "ii) Loading the data\n",
        "\n",
        "iii) Data cleaning\n",
        "\n",
        "iv) EDA\n",
        "\n",
        "V) Hypothesis testing\n",
        "\n",
        "vi) Conclusion\n",
        "\n",
        "vii)Recommendations"
      ]
    },
    {
      "cell_type": "markdown",
      "metadata": {
        "id": "sowktNMQiyC0",
        "colab_type": "text"
      },
      "source": [
        "### 2) Loading the data"
      ]
    },
    {
      "cell_type": "code",
      "metadata": {
        "id": "FPZzjqpai5A_",
        "colab_type": "code",
        "colab": {}
      },
      "source": [
        "#import all the neccesary libraries\n",
        "#pandas and numpy\n",
        "import pandas as pd\n",
        "import numpy as np\n",
        "\n",
        "#for viz\n",
        "import seaborn as sns\n",
        "import matplotlib\n",
        "from matplotlib import pyplot as plt\n",
        "\n",
        "#modelling\n",
        "from sklearn.model_selection import train_test_split\n",
        "from sklearn.linear_model import LinearRegression\n",
        "from sklearn.metrics import r2_score\n",
        "from sklearn.linear_model import ElasticNet\n",
        "from sklearn.tree import DecisionTreeClassifier\n",
        "from sklearn.ensemble import RandomForestClassifier\n",
        "from sklearn.metrics import mean_squared_error"
      ],
      "execution_count": 84,
      "outputs": []
    },
    {
      "cell_type": "code",
      "metadata": {
        "id": "9FjvSYrajcFe",
        "colab_type": "code",
        "colab": {
          "base_uri": "https://localhost:8080/",
          "height": 198
        },
        "outputId": "010e97e0-553c-41fb-e06e-e949d5b65fce"
      },
      "source": [
        "#loading the datasets\n",
        "df = pd.read_csv('ebola_data_db_format.csv')\n",
        "df.head()"
      ],
      "execution_count": 4,
      "outputs": [
        {
          "output_type": "execute_result",
          "data": {
            "text/html": [
              "<div>\n",
              "<style scoped>\n",
              "    .dataframe tbody tr th:only-of-type {\n",
              "        vertical-align: middle;\n",
              "    }\n",
              "\n",
              "    .dataframe tbody tr th {\n",
              "        vertical-align: top;\n",
              "    }\n",
              "\n",
              "    .dataframe thead th {\n",
              "        text-align: right;\n",
              "    }\n",
              "</style>\n",
              "<table border=\"1\" class=\"dataframe\">\n",
              "  <thead>\n",
              "    <tr style=\"text-align: right;\">\n",
              "      <th></th>\n",
              "      <th>Indicator</th>\n",
              "      <th>Country</th>\n",
              "      <th>Date</th>\n",
              "      <th>value</th>\n",
              "    </tr>\n",
              "  </thead>\n",
              "  <tbody>\n",
              "    <tr>\n",
              "      <th>0</th>\n",
              "      <td>Cumulative number of confirmed, probable and s...</td>\n",
              "      <td>Guinea</td>\n",
              "      <td>2015-03-10</td>\n",
              "      <td>3285.0</td>\n",
              "    </tr>\n",
              "    <tr>\n",
              "      <th>1</th>\n",
              "      <td>Cumulative number of confirmed Ebola cases</td>\n",
              "      <td>Guinea</td>\n",
              "      <td>2015-03-10</td>\n",
              "      <td>2871.0</td>\n",
              "    </tr>\n",
              "    <tr>\n",
              "      <th>2</th>\n",
              "      <td>Cumulative number of probable Ebola cases</td>\n",
              "      <td>Guinea</td>\n",
              "      <td>2015-03-10</td>\n",
              "      <td>392.0</td>\n",
              "    </tr>\n",
              "    <tr>\n",
              "      <th>3</th>\n",
              "      <td>Cumulative number of suspected Ebola cases</td>\n",
              "      <td>Guinea</td>\n",
              "      <td>2015-03-10</td>\n",
              "      <td>22.0</td>\n",
              "    </tr>\n",
              "    <tr>\n",
              "      <th>4</th>\n",
              "      <td>Cumulative number of confirmed, probable and s...</td>\n",
              "      <td>Guinea</td>\n",
              "      <td>2015-03-10</td>\n",
              "      <td>2170.0</td>\n",
              "    </tr>\n",
              "  </tbody>\n",
              "</table>\n",
              "</div>"
            ],
            "text/plain": [
              "                                           Indicator  ...   value\n",
              "0  Cumulative number of confirmed, probable and s...  ...  3285.0\n",
              "1         Cumulative number of confirmed Ebola cases  ...  2871.0\n",
              "2          Cumulative number of probable Ebola cases  ...   392.0\n",
              "3         Cumulative number of suspected Ebola cases  ...    22.0\n",
              "4  Cumulative number of confirmed, probable and s...  ...  2170.0\n",
              "\n",
              "[5 rows x 4 columns]"
            ]
          },
          "metadata": {
            "tags": []
          },
          "execution_count": 4
        }
      ]
    },
    {
      "cell_type": "code",
      "metadata": {
        "id": "j1t00eDuju1c",
        "colab_type": "code",
        "colab": {
          "base_uri": "https://localhost:8080/",
          "height": 35
        },
        "outputId": "dee8ec44-ba8a-46b3-d3e4-36019058b84d"
      },
      "source": [
        "df.shape"
      ],
      "execution_count": 5,
      "outputs": [
        {
          "output_type": "execute_result",
          "data": {
            "text/plain": [
              "(17585, 4)"
            ]
          },
          "metadata": {
            "tags": []
          },
          "execution_count": 5
        }
      ]
    },
    {
      "cell_type": "markdown",
      "metadata": {
        "id": "9ItdQhnVj0ef",
        "colab_type": "text"
      },
      "source": [
        "*contains 17585 rows and 4 columns*"
      ]
    },
    {
      "cell_type": "code",
      "metadata": {
        "id": "giRKWfWBjzPr",
        "colab_type": "code",
        "colab": {
          "base_uri": "https://localhost:8080/",
          "height": 302
        },
        "outputId": "38108df2-d410-4cd7-a5ef-297064216643"
      },
      "source": [
        "ebola_df = pd.read_csv('ebola_2014_2016_clean.csv')\n",
        "ebola_df.head()"
      ],
      "execution_count": 6,
      "outputs": [
        {
          "output_type": "execute_result",
          "data": {
            "text/html": [
              "<div>\n",
              "<style scoped>\n",
              "    .dataframe tbody tr th:only-of-type {\n",
              "        vertical-align: middle;\n",
              "    }\n",
              "\n",
              "    .dataframe tbody tr th {\n",
              "        vertical-align: top;\n",
              "    }\n",
              "\n",
              "    .dataframe thead th {\n",
              "        text-align: right;\n",
              "    }\n",
              "</style>\n",
              "<table border=\"1\" class=\"dataframe\">\n",
              "  <thead>\n",
              "    <tr style=\"text-align: right;\">\n",
              "      <th></th>\n",
              "      <th>Country</th>\n",
              "      <th>Date</th>\n",
              "      <th>Cumulative no. of confirmed, probable and suspected cases</th>\n",
              "      <th>Cumulative no. of confirmed, probable and suspected deaths</th>\n",
              "    </tr>\n",
              "  </thead>\n",
              "  <tbody>\n",
              "    <tr>\n",
              "      <th>0</th>\n",
              "      <td>Guinea</td>\n",
              "      <td>2014-08-29</td>\n",
              "      <td>648.0</td>\n",
              "      <td>430.0</td>\n",
              "    </tr>\n",
              "    <tr>\n",
              "      <th>1</th>\n",
              "      <td>Nigeria</td>\n",
              "      <td>2014-08-29</td>\n",
              "      <td>19.0</td>\n",
              "      <td>7.0</td>\n",
              "    </tr>\n",
              "    <tr>\n",
              "      <th>2</th>\n",
              "      <td>Sierra Leone</td>\n",
              "      <td>2014-08-29</td>\n",
              "      <td>1026.0</td>\n",
              "      <td>422.0</td>\n",
              "    </tr>\n",
              "    <tr>\n",
              "      <th>3</th>\n",
              "      <td>Liberia</td>\n",
              "      <td>2014-08-29</td>\n",
              "      <td>1378.0</td>\n",
              "      <td>694.0</td>\n",
              "    </tr>\n",
              "    <tr>\n",
              "      <th>4</th>\n",
              "      <td>Sierra Leone</td>\n",
              "      <td>2014-09-05</td>\n",
              "      <td>1261.0</td>\n",
              "      <td>491.0</td>\n",
              "    </tr>\n",
              "  </tbody>\n",
              "</table>\n",
              "</div>"
            ],
            "text/plain": [
              "        Country  ... Cumulative no. of confirmed, probable and suspected deaths\n",
              "0        Guinea  ...                                              430.0        \n",
              "1       Nigeria  ...                                                7.0        \n",
              "2  Sierra Leone  ...                                              422.0        \n",
              "3       Liberia  ...                                              694.0        \n",
              "4  Sierra Leone  ...                                              491.0        \n",
              "\n",
              "[5 rows x 4 columns]"
            ]
          },
          "metadata": {
            "tags": []
          },
          "execution_count": 6
        }
      ]
    },
    {
      "cell_type": "code",
      "metadata": {
        "id": "mDmMK55vkGeN",
        "colab_type": "code",
        "colab": {
          "base_uri": "https://localhost:8080/",
          "height": 35
        },
        "outputId": "b616df68-2dab-4ea5-93ef-954eae84d850"
      },
      "source": [
        "ebola_df.shape"
      ],
      "execution_count": 7,
      "outputs": [
        {
          "output_type": "execute_result",
          "data": {
            "text/plain": [
              "(2485, 4)"
            ]
          },
          "metadata": {
            "tags": []
          },
          "execution_count": 7
        }
      ]
    },
    {
      "cell_type": "markdown",
      "metadata": {
        "id": "bB_pn6wYkRv5",
        "colab_type": "text"
      },
      "source": [
        "*the data contains 2485 rows and 4 columns*"
      ]
    },
    {
      "cell_type": "code",
      "metadata": {
        "id": "P8Qil7c5kQD2",
        "colab_type": "code",
        "colab": {
          "base_uri": "https://localhost:8080/",
          "height": 217
        },
        "outputId": "67cb6d64-43de-4fed-91b9-589bfe4f86a7"
      },
      "source": [
        "#checking for the info of the data\n",
        "ebola_df.info()"
      ],
      "execution_count": 8,
      "outputs": [
        {
          "output_type": "stream",
          "text": [
            "<class 'pandas.core.frame.DataFrame'>\n",
            "RangeIndex: 2485 entries, 0 to 2484\n",
            "Data columns (total 4 columns):\n",
            " #   Column                                                      Non-Null Count  Dtype  \n",
            "---  ------                                                      --------------  -----  \n",
            " 0   Country                                                     2485 non-null   object \n",
            " 1   Date                                                        2485 non-null   object \n",
            " 2   Cumulative no. of confirmed, probable and suspected cases   2477 non-null   float64\n",
            " 3   Cumulative no. of confirmed, probable and suspected deaths  2485 non-null   float64\n",
            "dtypes: float64(2), object(2)\n",
            "memory usage: 77.8+ KB\n"
          ],
          "name": "stdout"
        }
      ]
    },
    {
      "cell_type": "markdown",
      "metadata": {
        "id": "HmuqbM9yA5Pi",
        "colab_type": "text"
      },
      "source": [
        "*number of cases some null values*"
      ]
    },
    {
      "cell_type": "code",
      "metadata": {
        "id": "f8nQXPj6k7Ic",
        "colab_type": "code",
        "colab": {
          "base_uri": "https://localhost:8080/",
          "height": 108
        },
        "outputId": "7fcd896f-2561-4e61-847a-2e9ec1f783da"
      },
      "source": [
        "#checking for datatypes\n",
        "ebola_df.dtypes"
      ],
      "execution_count": 9,
      "outputs": [
        {
          "output_type": "execute_result",
          "data": {
            "text/plain": [
              "Country                                                        object\n",
              "Date                                                           object\n",
              "Cumulative no. of confirmed, probable and suspected cases     float64\n",
              "Cumulative no. of confirmed, probable and suspected deaths    float64\n",
              "dtype: object"
            ]
          },
          "metadata": {
            "tags": []
          },
          "execution_count": 9
        }
      ]
    },
    {
      "cell_type": "markdown",
      "metadata": {
        "id": "_P8xtTQVlPlU",
        "colab_type": "text"
      },
      "source": [
        "*country and date are objects while cases and deaths are floats*\n",
        "\n",
        "*date should be in datetime format while country should be categorical*"
      ]
    },
    {
      "cell_type": "code",
      "metadata": {
        "id": "PQwTpoEflNid",
        "colab_type": "code",
        "colab": {
          "base_uri": "https://localhost:8080/",
          "height": 90
        },
        "outputId": "2c358815-beb1-46b3-d654-5fdd2ec9eb8e"
      },
      "source": [
        "#checking for the columns in the dataset\n",
        "ebola_df.columns"
      ],
      "execution_count": 10,
      "outputs": [
        {
          "output_type": "execute_result",
          "data": {
            "text/plain": [
              "Index(['Country', 'Date',\n",
              "       'Cumulative no. of confirmed, probable and suspected cases',\n",
              "       'Cumulative no. of confirmed, probable and suspected deaths'],\n",
              "      dtype='object')"
            ]
          },
          "metadata": {
            "tags": []
          },
          "execution_count": 10
        }
      ]
    },
    {
      "cell_type": "code",
      "metadata": {
        "id": "XxdjJv-llx44",
        "colab_type": "code",
        "colab": {
          "base_uri": "https://localhost:8080/",
          "height": 35
        },
        "outputId": "dc55d27b-20f2-4f1f-9038-1c2ebc54fad9"
      },
      "source": [
        "#checking for the size of our data\n",
        "ebola_df.size"
      ],
      "execution_count": 11,
      "outputs": [
        {
          "output_type": "execute_result",
          "data": {
            "text/plain": [
              "9940"
            ]
          },
          "metadata": {
            "tags": []
          },
          "execution_count": 11
        }
      ]
    },
    {
      "cell_type": "markdown",
      "metadata": {
        "id": "pzjLd_M3mHtE",
        "colab_type": "text"
      },
      "source": [
        "*the size of the dataset is 9940*"
      ]
    },
    {
      "cell_type": "code",
      "metadata": {
        "id": "xp3xXP3gl7z9",
        "colab_type": "code",
        "colab": {
          "base_uri": "https://localhost:8080/",
          "height": 305
        },
        "outputId": "aac035ac-6917-427d-b33e-3092b554beab"
      },
      "source": [
        "#checing for stat summaries\n",
        "ebola_df.describe()"
      ],
      "execution_count": 12,
      "outputs": [
        {
          "output_type": "execute_result",
          "data": {
            "text/html": [
              "<div>\n",
              "<style scoped>\n",
              "    .dataframe tbody tr th:only-of-type {\n",
              "        vertical-align: middle;\n",
              "    }\n",
              "\n",
              "    .dataframe tbody tr th {\n",
              "        vertical-align: top;\n",
              "    }\n",
              "\n",
              "    .dataframe thead th {\n",
              "        text-align: right;\n",
              "    }\n",
              "</style>\n",
              "<table border=\"1\" class=\"dataframe\">\n",
              "  <thead>\n",
              "    <tr style=\"text-align: right;\">\n",
              "      <th></th>\n",
              "      <th>Cumulative no. of confirmed, probable and suspected cases</th>\n",
              "      <th>Cumulative no. of confirmed, probable and suspected deaths</th>\n",
              "    </tr>\n",
              "  </thead>\n",
              "  <tbody>\n",
              "    <tr>\n",
              "      <th>count</th>\n",
              "      <td>2477.000000</td>\n",
              "      <td>2485.000000</td>\n",
              "    </tr>\n",
              "    <tr>\n",
              "      <th>mean</th>\n",
              "      <td>2553.678644</td>\n",
              "      <td>1028.347686</td>\n",
              "    </tr>\n",
              "    <tr>\n",
              "      <th>std</th>\n",
              "      <td>4427.118148</td>\n",
              "      <td>1656.064372</td>\n",
              "    </tr>\n",
              "    <tr>\n",
              "      <th>min</th>\n",
              "      <td>0.000000</td>\n",
              "      <td>0.000000</td>\n",
              "    </tr>\n",
              "    <tr>\n",
              "      <th>25%</th>\n",
              "      <td>1.000000</td>\n",
              "      <td>0.000000</td>\n",
              "    </tr>\n",
              "    <tr>\n",
              "      <th>50%</th>\n",
              "      <td>8.000000</td>\n",
              "      <td>6.000000</td>\n",
              "    </tr>\n",
              "    <tr>\n",
              "      <th>75%</th>\n",
              "      <td>3657.000000</td>\n",
              "      <td>2386.000000</td>\n",
              "    </tr>\n",
              "    <tr>\n",
              "      <th>max</th>\n",
              "      <td>14122.000000</td>\n",
              "      <td>4806.000000</td>\n",
              "    </tr>\n",
              "  </tbody>\n",
              "</table>\n",
              "</div>"
            ],
            "text/plain": [
              "       Cumulative no. of confirmed, probable and suspected cases  Cumulative no. of confirmed, probable and suspected deaths\n",
              "count                                        2477.000000                                                2485.000000         \n",
              "mean                                         2553.678644                                                1028.347686         \n",
              "std                                          4427.118148                                                1656.064372         \n",
              "min                                             0.000000                                                   0.000000         \n",
              "25%                                             1.000000                                                   0.000000         \n",
              "50%                                             8.000000                                                   6.000000         \n",
              "75%                                          3657.000000                                                2386.000000         \n",
              "max                                         14122.000000                                                4806.000000         "
            ]
          },
          "metadata": {
            "tags": []
          },
          "execution_count": 12
        }
      ]
    },
    {
      "cell_type": "markdown",
      "metadata": {
        "id": "CcosTf9YmU7l",
        "colab_type": "text"
      },
      "source": [
        "*from the above summary, there were 2477 confirmed cases and 2485 deaths*\n",
        "\n",
        "*the mean of cases and deaths was 2553.68 and 1028.35 respectively*\n"
      ]
    },
    {
      "cell_type": "code",
      "metadata": {
        "id": "SzLmpA4etoh8",
        "colab_type": "code",
        "colab": {
          "base_uri": "https://localhost:8080/",
          "height": 217
        },
        "outputId": "1b9d95c3-9871-40b8-b793-769d5bb4b9e9"
      },
      "source": [
        "#checking for value count in country column\n",
        "ebola_df['Country'].value_counts()"
      ],
      "execution_count": 13,
      "outputs": [
        {
          "output_type": "execute_result",
          "data": {
            "text/plain": [
              "Liberia                     365\n",
              "Guinea                      259\n",
              "Sierra Leone                259\n",
              "Nigeria                     255\n",
              "Senegal                     254\n",
              "United States of America    245\n",
              "Mali                        243\n",
              "Spain                       243\n",
              "United Kingdom              221\n",
              "Italy                       141\n",
              "Name: Country, dtype: int64"
            ]
          },
          "metadata": {
            "tags": []
          },
          "execution_count": 13
        }
      ]
    },
    {
      "cell_type": "markdown",
      "metadata": {
        "id": "4F3AG2Bptqvs",
        "colab_type": "text"
      },
      "source": [
        "*apart from countries in west africa there were other countries which are USA, UK and Italy*\n",
        "\n",
        "*Liberia has the most count while italy has the lowest*"
      ]
    },
    {
      "cell_type": "code",
      "metadata": {
        "id": "IYTyivt5ukRQ",
        "colab_type": "code",
        "colab": {
          "base_uri": "https://localhost:8080/",
          "height": 235
        },
        "outputId": "e055641e-1780-4d2b-a063-511ccbb65e80"
      },
      "source": [
        "#checking for value count in date column\n",
        "ebola_df['Date'].value_counts()"
      ],
      "execution_count": 14,
      "outputs": [
        {
          "output_type": "execute_result",
          "data": {
            "text/plain": [
              "2016-03-23    12\n",
              "2015-09-07    11\n",
              "2015-10-16    11\n",
              "2015-09-18    11\n",
              "2015-07-15    11\n",
              "              ..\n",
              "2014-09-24     5\n",
              "2014-09-18     5\n",
              "2014-09-05     5\n",
              "2014-10-01     5\n",
              "2014-08-29     4\n",
              "Name: Date, Length: 259, dtype: int64"
            ]
          },
          "metadata": {
            "tags": []
          },
          "execution_count": 14
        }
      ]
    },
    {
      "cell_type": "markdown",
      "metadata": {
        "id": "DD281ZMevBXy",
        "colab_type": "text"
      },
      "source": [
        "*2016-03-23 has the most value count*"
      ]
    },
    {
      "cell_type": "markdown",
      "metadata": {
        "id": "ra-criGSm9ou",
        "colab_type": "text"
      },
      "source": [
        "### 3) Tyding the data"
      ]
    },
    {
      "cell_type": "code",
      "metadata": {
        "id": "kzbPa54zmRCw",
        "colab_type": "code",
        "colab": {
          "base_uri": "https://localhost:8080/",
          "height": 35
        },
        "outputId": "f8ee218a-bf0e-4723-e385-134aeec8421c"
      },
      "source": [
        "#renaming columns \n",
        "\n",
        "ebola_df.rename({'Cumulative no. of confirmed, probable and suspected cases' : 'no of confirmed cases', \n",
        "                 'Cumulative no. of confirmed, probable and suspected deaths' : 'no of confirmed deaths'}, \n",
        "                    axis=1, inplace=True)\n",
        "\n",
        "ebola_df.columns"
      ],
      "execution_count": 15,
      "outputs": [
        {
          "output_type": "execute_result",
          "data": {
            "text/plain": [
              "Index(['Country', 'Date', 'no of confirmed cases', 'no of confirmed deaths'], dtype='object')"
            ]
          },
          "metadata": {
            "tags": []
          },
          "execution_count": 15
        }
      ]
    },
    {
      "cell_type": "markdown",
      "metadata": {
        "id": "vzlGxjR6n5eg",
        "colab_type": "text"
      },
      "source": [
        "*renamed no of cases and deaths*"
      ]
    },
    {
      "cell_type": "code",
      "metadata": {
        "id": "7UHipdgin0C5",
        "colab_type": "code",
        "colab": {
          "base_uri": "https://localhost:8080/",
          "height": 235
        },
        "outputId": "2dc868a0-7469-43b1-818a-499d5bd68495"
      },
      "source": [
        "#changing date to datetime\n",
        "ebola_df.Date = pd.to_datetime(ebola_df.Date)\n",
        "ebola_df.Date"
      ],
      "execution_count": 16,
      "outputs": [
        {
          "output_type": "execute_result",
          "data": {
            "text/plain": [
              "0      2014-08-29\n",
              "1      2014-08-29\n",
              "2      2014-08-29\n",
              "3      2014-08-29\n",
              "4      2014-09-05\n",
              "          ...    \n",
              "2480   2016-03-23\n",
              "2481   2016-03-23\n",
              "2482   2016-03-23\n",
              "2483   2016-03-23\n",
              "2484   2016-03-23\n",
              "Name: Date, Length: 2485, dtype: datetime64[ns]"
            ]
          },
          "metadata": {
            "tags": []
          },
          "execution_count": 16
        }
      ]
    },
    {
      "cell_type": "code",
      "metadata": {
        "id": "XkjJQyc_BY8Y",
        "colab_type": "code",
        "colab": {
          "base_uri": "https://localhost:8080/",
          "height": 108
        },
        "outputId": "23cd2fdb-f054-4691-c842-3732bcaa1cfc"
      },
      "source": [
        "#country to category\n",
        "\n",
        "ebola_df['Country']= ebola_df['Country'].astype('category')\n",
        "\n",
        "#reviewing the dtypes\n",
        "ebola_df.dtypes"
      ],
      "execution_count": 17,
      "outputs": [
        {
          "output_type": "execute_result",
          "data": {
            "text/plain": [
              "Country                         category\n",
              "Date                      datetime64[ns]\n",
              "no of confirmed cases            float64\n",
              "no of confirmed deaths           float64\n",
              "dtype: object"
            ]
          },
          "metadata": {
            "tags": []
          },
          "execution_count": 17
        }
      ]
    },
    {
      "cell_type": "markdown",
      "metadata": {
        "id": "Hf6kI3yKoqm_",
        "colab_type": "text"
      },
      "source": [
        "*all columns are in the correct format*"
      ]
    },
    {
      "cell_type": "code",
      "metadata": {
        "id": "jzNNB6kWohU0",
        "colab_type": "code",
        "colab": {
          "base_uri": "https://localhost:8080/",
          "height": 35
        },
        "outputId": "e1b9f026-b7df-4091-b162-3a26e233b068"
      },
      "source": [
        "#checking for null values\n",
        "ebola_df.isnull().values.sum()"
      ],
      "execution_count": 18,
      "outputs": [
        {
          "output_type": "execute_result",
          "data": {
            "text/plain": [
              "8"
            ]
          },
          "metadata": {
            "tags": []
          },
          "execution_count": 18
        }
      ]
    },
    {
      "cell_type": "code",
      "metadata": {
        "id": "O5Lh4ppSsOSy",
        "colab_type": "code",
        "colab": {
          "base_uri": "https://localhost:8080/",
          "height": 108
        },
        "outputId": "059cd967-2be0-4108-81da-6716614b5d2d"
      },
      "source": [
        "ebola_df.isnull().sum()\n",
        "ebola_df.dropna(subset=['no of confirmed cases'], inplace=True)"
      ],
      "execution_count": 19,
      "outputs": [
        {
          "output_type": "execute_result",
          "data": {
            "text/plain": [
              "Country                   0\n",
              "Date                      0\n",
              "no of confirmed cases     8\n",
              "no of confirmed deaths    0\n",
              "dtype: int64"
            ]
          },
          "metadata": {
            "tags": []
          },
          "execution_count": 19
        }
      ]
    },
    {
      "cell_type": "markdown",
      "metadata": {
        "id": "-PnxPrhov9cp",
        "colab_type": "text"
      },
      "source": [
        "### 4) Univariate Analysis"
      ]
    },
    {
      "cell_type": "markdown",
      "metadata": {
        "id": "GYnf_AyxwLCm",
        "colab_type": "text"
      },
      "source": [
        "**Mode**"
      ]
    },
    {
      "cell_type": "markdown",
      "metadata": {
        "id": "FbH_75EgwNNf",
        "colab_type": "text"
      },
      "source": [
        "frequenty occuring number found in a set of numbers"
      ]
    },
    {
      "cell_type": "code",
      "metadata": {
        "id": "tB43zxxTsTTS",
        "colab_type": "code",
        "colab": {
          "base_uri": "https://localhost:8080/",
          "height": 90
        },
        "outputId": "e2f946f9-2591-4842-b329-91f76e79c890"
      },
      "source": [
        "#finding the mode of no of cases and deaths\n",
        "#for loop is used \n",
        "\n",
        "for column in ebola_df.columns:\n",
        "  print(f'mode of {column: <22} : {ebola_df[column].mode()[0]}')\n"
      ],
      "execution_count": 21,
      "outputs": [
        {
          "output_type": "stream",
          "text": [
            "mode of Country                : Liberia\n",
            "mode of Date                   : 2016-03-23 00:00:00\n",
            "mode of no of confirmed cases  : 1.0\n",
            "mode of no of confirmed deaths : 0.0\n"
          ],
          "name": "stdout"
        }
      ]
    },
    {
      "cell_type": "markdown",
      "metadata": {
        "id": "kFG7SBLHw1Ne",
        "colab_type": "text"
      },
      "source": [
        "*Liberia has been spotted several times, the date 2016-03-23 is frequently occuring, most cases are at 1 and zero deaths*"
      ]
    },
    {
      "cell_type": "markdown",
      "metadata": {
        "id": "5Ia0dxF7xRuy",
        "colab_type": "text"
      },
      "source": [
        "**MEAN**"
      ]
    },
    {
      "cell_type": "markdown",
      "metadata": {
        "id": "Z5_1Mj40xTTf",
        "colab_type": "text"
      },
      "source": [
        "*mean is detrmined by adding all the data points of a population and divding it by the number of data points*"
      ]
    },
    {
      "cell_type": "code",
      "metadata": {
        "id": "UIEI72K8s1YG",
        "colab_type": "code",
        "colab": {
          "base_uri": "https://localhost:8080/",
          "height": 54
        },
        "outputId": "b4dddc51-dcac-4b46-e5a5-c76c47539a0e"
      },
      "source": [
        "#fing the mean of numerical columns using a for loop\n",
        "#pandas columns.diff is used to select only numerical columns\n",
        "numerical_col = ebola_df[ebola_df.columns.difference(['Country', 'Date'])]\n",
        "numerical_col\n",
        "\n",
        "for column in numerical_col:\n",
        "  print(f'mean of {column: <22} : {ebola_df[column].mean()}')"
      ],
      "execution_count": 22,
      "outputs": [
        {
          "output_type": "stream",
          "text": [
            "mean of no of confirmed cases  : 2553.6786435203876\n",
            "mean of no of confirmed deaths : 1028.3476861167003\n"
          ],
          "name": "stdout"
        }
      ]
    },
    {
      "cell_type": "markdown",
      "metadata": {
        "id": "ZmdMFaLDyl2Q",
        "colab_type": "text"
      },
      "source": [
        "*mean of confirmed cases is 2553.68 while the mean of deaths is 1028.35*\n",
        "\n",
        "*mean of confirmed cases is more than the deaths*"
      ]
    },
    {
      "cell_type": "markdown",
      "metadata": {
        "id": "Qc-vj1sNy481",
        "colab_type": "text"
      },
      "source": [
        "**MEDIAN**"
      ]
    },
    {
      "cell_type": "markdown",
      "metadata": {
        "id": "yIK_Gtcpy6VT",
        "colab_type": "text"
      },
      "source": [
        "its a value in which datais divided into two equal partsie the no on the right side is the same as the no on the left side provided the data is arranged in ascending or descending order"
      ]
    },
    {
      "cell_type": "code",
      "metadata": {
        "id": "JRxH97z3zash",
        "colab_type": "code",
        "colab": {
          "base_uri": "https://localhost:8080/",
          "height": 54
        },
        "outputId": "b051c621-f6e0-4baa-fc13-4d48fb26ca4b"
      },
      "source": [
        "#finding the median using for loop \n",
        "\n",
        "for column in numerical_col:\n",
        "  print(f'median of {column: <22} : {ebola_df[column].median()}')"
      ],
      "execution_count": 23,
      "outputs": [
        {
          "output_type": "stream",
          "text": [
            "median of no of confirmed cases  : 8.0\n",
            "median of no of confirmed deaths : 6.0\n"
          ],
          "name": "stdout"
        }
      ]
    },
    {
      "cell_type": "markdown",
      "metadata": {
        "id": "DRdyPjaGz7ot",
        "colab_type": "text"
      },
      "source": [
        "*the median of cases is 8.0 while that of deaths is 6.0*"
      ]
    },
    {
      "cell_type": "markdown",
      "metadata": {
        "id": "YLgBi1bn0INn",
        "colab_type": "text"
      },
      "source": [
        "**Standard Deviation**"
      ]
    },
    {
      "cell_type": "markdown",
      "metadata": {
        "id": "03PcSwD-0LRJ",
        "colab_type": "text"
      },
      "source": [
        "is a measurement of avg distance between each quantity and the mean.It tries to show how data is spread out from the mean.\n",
        "A low std indicates that the data points tend to be close to the mean of the dataset while a high std indicates that the data points are spread out over a wider range of values."
      ]
    },
    {
      "cell_type": "code",
      "metadata": {
        "id": "oVoVciVgzaiC",
        "colab_type": "code",
        "colab": {
          "base_uri": "https://localhost:8080/",
          "height": 54
        },
        "outputId": "40975000-1f1d-4540-e80d-18b340f31d06"
      },
      "source": [
        "#std using a for loop \n",
        "\n",
        "for column in numerical_col:\n",
        "  print(f'standard deviation of {column: <22} : {ebola_df[column].std()}')"
      ],
      "execution_count": 24,
      "outputs": [
        {
          "output_type": "stream",
          "text": [
            "standard deviation of no of confirmed cases  : 4427.118148257047\n",
            "standard deviation of no of confirmed deaths : 1656.0643715560198\n"
          ],
          "name": "stdout"
        }
      ]
    },
    {
      "cell_type": "markdown",
      "metadata": {
        "id": "Sf0Hw3_ozXEk",
        "colab_type": "text"
      },
      "source": [
        "*median of confirmed cases is 4427.12 while that of deatths is 1659.06*"
      ]
    },
    {
      "cell_type": "markdown",
      "metadata": {
        "id": "nBOEoIVB1ofL",
        "colab_type": "text"
      },
      "source": [
        "**Variance**"
      ]
    },
    {
      "cell_type": "markdown",
      "metadata": {
        "id": "wEp9KHix1qkx",
        "colab_type": "text"
      },
      "source": [
        "is the square of the avg distance btwn the mean and each datapoint.simply, it is the square of the std. how spreadout the datapoints are."
      ]
    },
    {
      "cell_type": "code",
      "metadata": {
        "id": "kVtta5fPx9vT",
        "colab_type": "code",
        "colab": {
          "base_uri": "https://localhost:8080/",
          "height": 54
        },
        "outputId": "41fa61d9-b2c1-492d-d0c2-465be465778b"
      },
      "source": [
        "#var using for loop\n",
        "\n",
        "for column in numerical_col:\n",
        "  print(f'variance of {column: <22} : {ebola_df[column].var()}')"
      ],
      "execution_count": 25,
      "outputs": [
        {
          "output_type": "stream",
          "text": [
            "variance of no of confirmed cases  : 19599375.098626908\n",
            "variance of no of confirmed deaths : 2742549.2027372345\n"
          ],
          "name": "stdout"
        }
      ]
    },
    {
      "cell_type": "markdown",
      "metadata": {
        "id": "ydRWCUr52hgi",
        "colab_type": "text"
      },
      "source": [
        "*variance of cases is 19599375.10 while that of deaths is 2742599.20*"
      ]
    },
    {
      "cell_type": "markdown",
      "metadata": {
        "id": "LH0GlNjL2sFB",
        "colab_type": "text"
      },
      "source": [
        "**Range**"
      ]
    },
    {
      "cell_type": "markdown",
      "metadata": {
        "id": "phfB5mAG2r89",
        "colab_type": "text"
      },
      "source": [
        "this is the difference bettween the maximum and the minimum values"
      ]
    },
    {
      "cell_type": "code",
      "metadata": {
        "id": "PajmhjKk2fFm",
        "colab_type": "code",
        "colab": {
          "base_uri": "https://localhost:8080/",
          "height": 54
        },
        "outputId": "bfe5c383-c36b-4fd0-eba6-5363ab79d884"
      },
      "source": [
        "#a function is created to find the range\n",
        "\n",
        "def calculating_range(column):\n",
        "  maximum=ebola_df[column].max()\n",
        "  minimum=ebola_df[column].min()\n",
        "  column_range=maximum-minimum\n",
        "  return column_range\n",
        "\n",
        "for column in numerical_col:\n",
        "  print(f'Range for {column: <22} : {calculating_range(column)}')"
      ],
      "execution_count": 26,
      "outputs": [
        {
          "output_type": "stream",
          "text": [
            "Range for no of confirmed cases  : 14122.0\n",
            "Range for no of confirmed deaths : 4806.0\n"
          ],
          "name": "stdout"
        }
      ]
    },
    {
      "cell_type": "markdown",
      "metadata": {
        "id": "Bvf4nLpT4O3Y",
        "colab_type": "text"
      },
      "source": [
        "**Inter Quartile Range**"
      ]
    },
    {
      "cell_type": "markdown",
      "metadata": {
        "id": "ezOquLbj4Pyy",
        "colab_type": "text"
      },
      "source": [
        "values that divide data into quarters provided the data is sort in ascending order.ie Q1(0.25), Q2(0.50), Q3(0.75) "
      ]
    },
    {
      "cell_type": "code",
      "metadata": {
        "id": "tQkg1aa33_D1",
        "colab_type": "code",
        "colab": {
          "base_uri": "https://localhost:8080/",
          "height": 54
        },
        "outputId": "5b89fbaa-e5ba-48a0-db35-81794eb36d9d"
      },
      "source": [
        "#for loop to calculate each quartile\n",
        "\n",
        "for column in numerical_col:\n",
        "  print(f'Quartiles for {column: <22} : Q1 - {list(ebola_df[column].quantile([0.25]))[0]: <7}\\\n",
        "  Q2 - {list(ebola_df[column].quantile([0.5]))[0]: <7}\\\n",
        "  Q3 - {list(ebola_df[column].quantile([0.75]))[0]}')"
      ],
      "execution_count": 27,
      "outputs": [
        {
          "output_type": "stream",
          "text": [
            "Quartiles for no of confirmed cases  : Q1 - 1.0      Q2 - 8.0      Q3 - 3657.0\n",
            "Quartiles for no of confirmed deaths : Q1 - 0.0      Q2 - 6.0      Q3 - 2386.0\n"
          ],
          "name": "stdout"
        }
      ]
    },
    {
      "cell_type": "markdown",
      "metadata": {
        "id": "Zf6Ozpgv6BMg",
        "colab_type": "text"
      },
      "source": [
        "**Skewness**"
      ]
    },
    {
      "cell_type": "markdown",
      "metadata": {
        "id": "tYIgZ84l6BJp",
        "colab_type": "text"
      },
      "source": [
        " Is the measure of the asymmetry of the probability distribution of a real-valued random variable about its mean.\n",
        "Its value can either be positive, negative or undefined. In a perfect normal dist, the tails on either side of the curve are axact mirrors images of each other.\n",
        "\n",
        "When a distribution is skewed to the left, the tail on the curves left-hand side is longer than the one on the right, and the mean is less than the mode.This is called negative skewness.\n",
        "\n",
        "When a dist is skewed to the right, the tail on the left-hand side, and the mean is greater than the mode.This is positive skewness."
      ]
    },
    {
      "cell_type": "code",
      "metadata": {
        "id": "6N9D2Hc55jcY",
        "colab_type": "code",
        "colab": {
          "base_uri": "https://localhost:8080/",
          "height": 54
        },
        "outputId": "07279035-3fcf-419b-c8c5-3ddc4586669a"
      },
      "source": [
        "#calculatng skewness using for loop\n",
        "\n",
        "for column in numerical_col:\n",
        "  print(f'Skewness of {column: <22} : {ebola_df[column].skew()}')"
      ],
      "execution_count": 28,
      "outputs": [
        {
          "output_type": "stream",
          "text": [
            "Skewness of no of confirmed cases  : 1.4921464696008508\n",
            "Skewness of no of confirmed deaths : 1.2195432668301713\n"
          ],
          "name": "stdout"
        }
      ]
    },
    {
      "cell_type": "markdown",
      "metadata": {
        "id": "SuL1Qu6X7CUO",
        "colab_type": "text"
      },
      "source": [
        "*both cases and deaths are positively skewed meaning that the mean is greater than the mode*"
      ]
    },
    {
      "cell_type": "markdown",
      "metadata": {
        "id": "PteLrHSl7PBo",
        "colab_type": "text"
      },
      "source": [
        "**Kurtosis**"
      ]
    },
    {
      "cell_type": "markdown",
      "metadata": {
        "id": "lfnH884t7SbC",
        "colab_type": "text"
      },
      "source": [
        "kurtosis is a measure of the \"tailedness\" of the probability distribution of a real-valued random variable. Kurtosis can also be defined as a measure of whether the data points are heavy-tailed (profusion of outliers) or light-tailed (lack of outliers) relative to a normal distribution. There are three types of Kurtosis: Mesokurtic, Leptokurtic and Platykurtic.\n",
        "\n",
        "Mesokurtic is the distribution which has similar kurtosis as normal distribution kurtosis, which is zero.\n",
        "\n",
        "Leptokurtic is the distribution which has kurtosis greater than a Mesokurtic distribution. Tails of such distributions are thick and heavy.\n",
        "\n",
        "Platykurtic is the distribution which has kurtosis lesser than a Mesokurtic distribution. Tails of such distributions thinner.\n",
        "\n",
        "If the kurtosis is close to 0, then a normal distribution is often assumed. These are called mesokurtic distributions.\n",
        "\n",
        "If the kurtosis is less than zero, then the distribution is light tails and is called a platykurtic distribution.\n",
        "\n",
        "If the kurtosis is greater than zero, then the distribution has heavier tails and is called a leptokurtic distribution."
      ]
    },
    {
      "cell_type": "code",
      "metadata": {
        "id": "Ne1FeaDI7AzI",
        "colab_type": "code",
        "colab": {
          "base_uri": "https://localhost:8080/",
          "height": 54
        },
        "outputId": "04f80264-62b5-48ce-fe39-2c40497ea133"
      },
      "source": [
        "#calculating kurtosis using for loop\n",
        "\n",
        "for column in numerical_col:\n",
        "  print(f'kurtosis for {column: <22} : {ebola_df[column].kurt()}')"
      ],
      "execution_count": 29,
      "outputs": [
        {
          "output_type": "stream",
          "text": [
            "kurtosis for no of confirmed cases  : 0.6267310821315686\n",
            "kurtosis for no of confirmed deaths : -0.15309252675478557\n"
          ],
          "name": "stdout"
        }
      ]
    },
    {
      "cell_type": "markdown",
      "metadata": {
        "id": "oPEEvZOm7-Gn",
        "colab_type": "text"
      },
      "source": [
        "*in cases column, the kurt is 0.63 meaning its a mesokurtic distribution, we therefore we assume it forms a normal dist*\n",
        "\n",
        "*in deaths column, the kurts is -0.15 meaning its a platykururtic dist and its tail is light tail*"
      ]
    },
    {
      "cell_type": "markdown",
      "metadata": {
        "id": "CAdlcpXA9JcC",
        "colab_type": "text"
      },
      "source": [
        "**HISTOGRAM**"
      ]
    },
    {
      "cell_type": "markdown",
      "metadata": {
        "id": "qosOxxzbAtu3",
        "colab_type": "text"
      },
      "source": [
        "used to test whether the data is normally distributed\n",
        "the test consists of looking at the histogram and discerning whether it approximates the bell shaped of a normal dist."
      ]
    },
    {
      "cell_type": "code",
      "metadata": {
        "id": "OuS1MzI478EI",
        "colab_type": "code",
        "colab": {
          "base_uri": "https://localhost:8080/",
          "height": 663
        },
        "outputId": "e581a00a-9d4a-4187-8239-2200100c57bd"
      },
      "source": [
        "#the hist are plotted used hist\n",
        "#for loop used  to plot each numerical column\n",
        "#seaborn plotting style has been set to dark grid for visibility\n",
        "\n",
        "sns.set_style('darkgrid')\n",
        "fig, axes = plt.subplots(nrows=3, ncols=3, figsize=(15,10))\n",
        "fig.suptitle('Distribution for confirmed cases and deaths', color='magenta', fontsize=15)\n",
        "\n",
        "for ax, data, name in zip(axes.flatten(), ebola_df, numerical_col):\n",
        "  sns.distplot(ebola_df[name], ax = ax)"
      ],
      "execution_count": null,
      "outputs": [
        {
          "output_type": "display_data",
          "data": {
            "image/png": "[encoded data removed]",
            "text/plain": [
              "<Figure size 1080x720 with 9 Axes>"
            ]
          },
          "metadata": {
            "tags": []
          }
        }
      ]
    },
    {
      "cell_type": "markdown",
      "metadata": {
        "id": "WXOG-EzfEbJV",
        "colab_type": "text"
      },
      "source": [
        "**Boxplot**"
      ]
    },
    {
      "cell_type": "markdown",
      "metadata": {
        "id": "2z2IiFBSEdpv",
        "colab_type": "text"
      },
      "source": [
        "its a standerdized way of displaying the distribution of data based on a five number summary i.e (minimum, first quartile Q1, median, third quartile Q3 and maximum)\n",
        "it shows outliers and what values they are\n",
        "it can aslo tell if the data is symmetrical i.e how tightly the data is grouped, and how the data is skewed."
      ]
    },
    {
      "cell_type": "code",
      "metadata": {
        "id": "4PVzJD_JF2SR",
        "colab_type": "code",
        "colab": {
          "base_uri": "https://localhost:8080/",
          "height": 583
        },
        "outputId": "8a5a0d48-0d67-4745-f699-4fac0ffc5fcc"
      },
      "source": [
        "#plotting boxplot for each boxplot\n",
        "\n",
        "sns.set_style('darkgrid')\n",
        "fig, axes = plt.subplots(nrows=2, ncols=2, figsize=(15, 10))\n",
        "fig.suptitle('Box plot for confirmed cases and deaths', y=0.93, color='magenta', fontsize=15)\n",
        "\n",
        "for ax, data, name in zip(axes.flatten(), ebola_df, numerical_col):\n",
        "  sns.boxplot(ebola_df[name], ax=ax)"
      ],
      "execution_count": 30,
      "outputs": [
        {
          "output_type": "display_data",
          "data": {
            "image/png": "[encoded data removed]",
            "text/plain": [
              "<Figure size 1080x720 with 4 Axes>"
            ]
          },
          "metadata": {
            "tags": []
          }
        }
      ]
    },
    {
      "cell_type": "markdown",
      "metadata": {
        "id": "eo_375ivIYcx",
        "colab_type": "text"
      },
      "source": [
        "*from the boxplots above no of confirmed cases has outliers while deaths has no outliers*"
      ]
    },
    {
      "cell_type": "code",
      "metadata": {
        "id": "s8_Xzoq8IGPL",
        "colab_type": "code",
        "colab": {
          "base_uri": "https://localhost:8080/",
          "height": 34
        },
        "outputId": "e7fdec9e-6fa0-461e-e987-e94f00f37e5d"
      },
      "source": [
        "#checking for outliers using IQR\n",
        "\n",
        "ebola_df1=numerical_col  #creating df for only numerical col\n",
        "Q1 = ebola_df1.quantile(0.25)         #calculating the first quantile\n",
        "Q3 = ebola_df1.quantile(0.75)         #calculating the third quantile\n",
        "\n",
        "IQR = Q3 -Q1      #difference between the two quantiles\n",
        "\n",
        "# Previweing the first five columns which contain outliers\n",
        "#\n",
        "((ebola_df1 < Q1 - 1.5 * IQR) | (ebola_df1 > Q3 + 1.5 * IQR))\n",
        "\n",
        "#checking how many outliers in the dataset\n",
        "len(ebola_df1[((ebola_df1 < Q1 - 1.5 * IQR) | (ebola_df1 > Q3 + 1.5 * IQR)).any(axis = 1)])\n"
      ],
      "execution_count": null,
      "outputs": [
        {
          "output_type": "execute_result",
          "data": {
            "text/plain": [
              "411"
            ]
          },
          "metadata": {
            "tags": []
          },
          "execution_count": 30
        }
      ]
    },
    {
      "cell_type": "markdown",
      "metadata": {
        "id": "LE5X5O9ALl2w",
        "colab_type": "text"
      },
      "source": [
        "*decided to leave the outliers because the are relevant to the dataset as they colud be very high cases of confirmed ebola*"
      ]
    },
    {
      "cell_type": "code",
      "metadata": {
        "id": "2PajinQqDDC7",
        "colab_type": "code",
        "colab": {
          "base_uri": "https://localhost:8080/",
          "height": 255
        },
        "outputId": "c5b39628-9282-4027-b0fe-6851d8cd751a"
      },
      "source": [
        "#plotting barcharts of countries count\n",
        "plt.figure(figsize=(20,5))\n",
        "sns.countplot(ebola_df['Country'])"
      ],
      "execution_count": 31,
      "outputs": [
        {
          "output_type": "execute_result",
          "data": {
            "text/plain": [
              "<matplotlib.axes._subplots.AxesSubplot at 0x7f180d880a58>"
            ]
          },
          "metadata": {
            "tags": []
          },
          "execution_count": 31
        },
        {
          "output_type": "display_data",
          "data": {
            "image/png": "[encoded data removed]",
            "text/plain": [
              "<Figure size 1440x360 with 1 Axes>"
            ]
          },
          "metadata": {
            "tags": []
          }
        }
      ]
    },
    {
      "cell_type": "markdown",
      "metadata": {
        "id": "-t3IZy_T26x_",
        "colab_type": "text"
      },
      "source": [
        "*from the countplot, liberia has the highest count while italy has the lowest count*"
      ]
    },
    {
      "cell_type": "code",
      "metadata": {
        "id": "D_LsPcGD2hEL",
        "colab_type": "code",
        "colab": {
          "base_uri": "https://localhost:8080/",
          "height": 378
        },
        "outputId": "bc1e7707-980f-40db-9aee-f13949d1068a"
      },
      "source": [
        "ebola_df.groupby(['Country']).sum().sort_values(by='no of confirmed deaths', ascending=False)"
      ],
      "execution_count": 32,
      "outputs": [
        {
          "output_type": "execute_result",
          "data": {
            "text/html": [
              "<div>\n",
              "<style scoped>\n",
              "    .dataframe tbody tr th:only-of-type {\n",
              "        vertical-align: middle;\n",
              "    }\n",
              "\n",
              "    .dataframe tbody tr th {\n",
              "        vertical-align: top;\n",
              "    }\n",
              "\n",
              "    .dataframe thead th {\n",
              "        text-align: right;\n",
              "    }\n",
              "</style>\n",
              "<table border=\"1\" class=\"dataframe\">\n",
              "  <thead>\n",
              "    <tr style=\"text-align: right;\">\n",
              "      <th></th>\n",
              "      <th>no of confirmed cases</th>\n",
              "      <th>no of confirmed deaths</th>\n",
              "    </tr>\n",
              "    <tr>\n",
              "      <th>Country</th>\n",
              "      <th></th>\n",
              "      <th></th>\n",
              "    </tr>\n",
              "  </thead>\n",
              "  <tbody>\n",
              "    <tr>\n",
              "      <th>Liberia</th>\n",
              "      <td>2459122.0</td>\n",
              "      <td>1099833.0</td>\n",
              "    </tr>\n",
              "    <tr>\n",
              "      <th>Sierra Leone</th>\n",
              "      <td>3003428.0</td>\n",
              "      <td>888834.0</td>\n",
              "    </tr>\n",
              "    <tr>\n",
              "      <th>Guinea</th>\n",
              "      <td>854118.0</td>\n",
              "      <td>563069.0</td>\n",
              "    </tr>\n",
              "    <tr>\n",
              "      <th>Nigeria</th>\n",
              "      <td>5105.0</td>\n",
              "      <td>2039.0</td>\n",
              "    </tr>\n",
              "    <tr>\n",
              "      <th>Mali</th>\n",
              "      <td>1865.0</td>\n",
              "      <td>1427.0</td>\n",
              "    </tr>\n",
              "    <tr>\n",
              "      <th>United States of America</th>\n",
              "      <td>967.0</td>\n",
              "      <td>242.0</td>\n",
              "    </tr>\n",
              "    <tr>\n",
              "      <th>Italy</th>\n",
              "      <td>141.0</td>\n",
              "      <td>0.0</td>\n",
              "    </tr>\n",
              "    <tr>\n",
              "      <th>Senegal</th>\n",
              "      <td>258.0</td>\n",
              "      <td>0.0</td>\n",
              "    </tr>\n",
              "    <tr>\n",
              "      <th>Spain</th>\n",
              "      <td>243.0</td>\n",
              "      <td>0.0</td>\n",
              "    </tr>\n",
              "    <tr>\n",
              "      <th>United Kingdom</th>\n",
              "      <td>215.0</td>\n",
              "      <td>0.0</td>\n",
              "    </tr>\n",
              "  </tbody>\n",
              "</table>\n",
              "</div>"
            ],
            "text/plain": [
              "                          no of confirmed cases  no of confirmed deaths\n",
              "Country                                                                \n",
              "Liberia                               2459122.0               1099833.0\n",
              "Sierra Leone                          3003428.0                888834.0\n",
              "Guinea                                 854118.0                563069.0\n",
              "Nigeria                                  5105.0                  2039.0\n",
              "Mali                                     1865.0                  1427.0\n",
              "United States of America                  967.0                   242.0\n",
              "Italy                                     141.0                     0.0\n",
              "Senegal                                   258.0                     0.0\n",
              "Spain                                     243.0                     0.0\n",
              "United Kingdom                            215.0                     0.0"
            ]
          },
          "metadata": {
            "tags": []
          },
          "execution_count": 32
        }
      ]
    },
    {
      "cell_type": "markdown",
      "metadata": {
        "id": "l1-ieeqa9Rtx",
        "colab_type": "text"
      },
      "source": [
        "*Sierra leone has the highest number of confirmed cases while Liberia has the highest number of deaths*"
      ]
    },
    {
      "cell_type": "markdown",
      "metadata": {
        "id": "RFNXPZIO-NmR",
        "colab_type": "text"
      },
      "source": [
        "### 5) Bivariate Analysis"
      ]
    },
    {
      "cell_type": "code",
      "metadata": {
        "id": "N236yeaQAice",
        "colab_type": "code",
        "colab": {
          "base_uri": "https://localhost:8080/",
          "height": 405
        },
        "outputId": "52ade893-cf85-4326-8541-203a0940f8a5"
      },
      "source": [
        "#pairplots\n",
        "sns.pairplot(data=ebola_df)"
      ],
      "execution_count": 33,
      "outputs": [
        {
          "output_type": "execute_result",
          "data": {
            "text/plain": [
              "<seaborn.axisgrid.PairGrid at 0x7f180d3527f0>"
            ]
          },
          "metadata": {
            "tags": []
          },
          "execution_count": 33
        },
        {
          "output_type": "display_data",
          "data": {
            "image/png": "[encoded data removed]",
            "text/plain": [
              "<Figure size 360x360 with 6 Axes>"
            ]
          },
          "metadata": {
            "tags": []
          }
        }
      ]
    },
    {
      "cell_type": "markdown",
      "metadata": {
        "id": "NFTPcGr_CbUE",
        "colab_type": "text"
      },
      "source": [
        "*the almost form a normal distribution*"
      ]
    },
    {
      "cell_type": "code",
      "metadata": {
        "id": "pfAEJo-BCmt8",
        "colab_type": "code",
        "colab": {
          "base_uri": "https://localhost:8080/",
          "height": 406
        },
        "outputId": "495db5e1-3243-4afd-8e90-764ddae3db70"
      },
      "source": [
        "#plotting scatter plot of deaths and cases\n",
        "#\n",
        "fig = plt.figure(figsize = (10, 6))\n",
        "sns.scatterplot(ebola_df['no of confirmed cases'], ebola_df['no of confirmed deaths'], color = 'purple')\n",
        "plt.title('Scatter plot for slots taken VS slots freed', color = 'purple', fontdict={'size': 15})\n",
        "plt.show()"
      ],
      "execution_count": null,
      "outputs": [
        {
          "output_type": "display_data",
          "data": {
            "image/png": "[encoded data removed]",
            "text/plain": [
              "<Figure size 720x432 with 1 Axes>"
            ]
          },
          "metadata": {
            "tags": []
          }
        }
      ]
    },
    {
      "cell_type": "markdown",
      "metadata": {
        "id": "_ua_3ae0NkyY",
        "colab_type": "text"
      },
      "source": [
        "*the graph shows a correlation between death ans cases*"
      ]
    },
    {
      "cell_type": "code",
      "metadata": {
        "id": "k4Uh1JudDqi7",
        "colab_type": "code",
        "colab": {
          "base_uri": "https://localhost:8080/",
          "height": 108
        },
        "outputId": "9fedb9ca-3035-42eb-8c9d-29ec90447b54"
      },
      "source": [
        "#correlation of cases and deaths confirmed\n",
        "#pandas corr() function is used to find the correlation\n",
        "\n",
        "ebola_df.corr()\n"
      ],
      "execution_count": 34,
      "outputs": [
        {
          "output_type": "execute_result",
          "data": {
            "text/html": [
              "<div>\n",
              "<style scoped>\n",
              "    .dataframe tbody tr th:only-of-type {\n",
              "        vertical-align: middle;\n",
              "    }\n",
              "\n",
              "    .dataframe tbody tr th {\n",
              "        vertical-align: top;\n",
              "    }\n",
              "\n",
              "    .dataframe thead th {\n",
              "        text-align: right;\n",
              "    }\n",
              "</style>\n",
              "<table border=\"1\" class=\"dataframe\">\n",
              "  <thead>\n",
              "    <tr style=\"text-align: right;\">\n",
              "      <th></th>\n",
              "      <th>no of confirmed cases</th>\n",
              "      <th>no of confirmed deaths</th>\n",
              "    </tr>\n",
              "  </thead>\n",
              "  <tbody>\n",
              "    <tr>\n",
              "      <th>no of confirmed cases</th>\n",
              "      <td>1.0000</td>\n",
              "      <td>0.9558</td>\n",
              "    </tr>\n",
              "    <tr>\n",
              "      <th>no of confirmed deaths</th>\n",
              "      <td>0.9558</td>\n",
              "      <td>1.0000</td>\n",
              "    </tr>\n",
              "  </tbody>\n",
              "</table>\n",
              "</div>"
            ],
            "text/plain": [
              "                        no of confirmed cases  no of confirmed deaths\n",
              "no of confirmed cases                  1.0000                  0.9558\n",
              "no of confirmed deaths                 0.9558                  1.0000"
            ]
          },
          "metadata": {
            "tags": []
          },
          "execution_count": 34
        }
      ]
    },
    {
      "cell_type": "code",
      "metadata": {
        "id": "glirrl9YF6Qs",
        "colab_type": "code",
        "colab": {
          "base_uri": "https://localhost:8080/",
          "height": 455
        },
        "outputId": "a813a6bc-cfb1-4076-de70-faaba8507ab9"
      },
      "source": [
        "#heatmap correlation\n",
        "\n",
        "plt.figure(figsize= (10,7))\n",
        "sns.heatmap(ebola_df.corr(), annot=True, cmap='rainbow', linewidths=0.1, vmax=1.0, linecolor='white', square=False)\n",
        "plt.title('Heatmap showing ebola numerical features cases', color='m', pad=15, fontdict={'size': 15})\n",
        "plt.show()"
      ],
      "execution_count": null,
      "outputs": [
        {
          "output_type": "display_data",
          "data": {
            "image/png": "[encoded data removed]",
            "text/plain": [
              "<Figure size 720x504 with 2 Axes>"
            ]
          },
          "metadata": {
            "tags": []
          }
        }
      ]
    },
    {
      "cell_type": "markdown",
      "metadata": {
        "id": "hLReom4NGtYr",
        "colab_type": "text"
      },
      "source": [
        "*there is a high correlation btwn cases and deaths. their values are greater than 0.8.the no. of deaths is dependent on the number of cases*"
      ]
    },
    {
      "cell_type": "code",
      "metadata": {
        "id": "abNRZGAq7RXC",
        "colab_type": "code",
        "colab": {
          "base_uri": "https://localhost:8080/",
          "height": 316
        },
        "outputId": "54c97b88-45cb-4a56-a5e1-a656fa42877f"
      },
      "source": [
        "#plotting graphs of cases and deaths in diff countries\n",
        "\n",
        "plt.figure(figsize=(15,5))\n",
        "sns.barplot(x='Country', y='no of confirmed cases', data=ebola_df)"
      ],
      "execution_count": 37,
      "outputs": [
        {
          "output_type": "execute_result",
          "data": {
            "text/plain": [
              "<matplotlib.axes._subplots.AxesSubplot at 0x7f180a8155f8>"
            ]
          },
          "metadata": {
            "tags": []
          },
          "execution_count": 37
        },
        {
          "output_type": "display_data",
          "data": {
            "image/png": "[encoded data removed]",
            "text/plain": [
              "<Figure size 1080x360 with 1 Axes>"
            ]
          },
          "metadata": {
            "tags": []
          }
        }
      ]
    },
    {
      "cell_type": "markdown",
      "metadata": {
        "id": "doTVugUk_nAh",
        "colab_type": "text"
      },
      "source": [
        "*sierra leone has the highest number of confimrd cases*"
      ]
    },
    {
      "cell_type": "code",
      "metadata": {
        "id": "UWNLnAdH8ex9",
        "colab_type": "code",
        "colab": {
          "base_uri": "https://localhost:8080/",
          "height": 318
        },
        "outputId": "7dbcd76c-8440-4df2-eee2-fd505ee33513"
      },
      "source": [
        "plt.figure(figsize=(15,5))\n",
        "sns.barplot(x='Country', y='no of confirmed deaths', data=ebola_df)"
      ],
      "execution_count": 38,
      "outputs": [
        {
          "output_type": "execute_result",
          "data": {
            "text/plain": [
              "<matplotlib.axes._subplots.AxesSubplot at 0x7f180a7ba6a0>"
            ]
          },
          "metadata": {
            "tags": []
          },
          "execution_count": 38
        },
        {
          "output_type": "display_data",
          "data": {
            "image/png": "[encoded data removed]",
            "text/plain": [
              "<Figure size 1080x360 with 1 Axes>"
            ]
          },
          "metadata": {
            "tags": []
          }
        }
      ]
    },
    {
      "cell_type": "markdown",
      "metadata": {
        "id": "7GuDk6EmAYQb",
        "colab_type": "text"
      },
      "source": [
        "*sierra leone recorded the highest number of deaths*"
      ]
    },
    {
      "cell_type": "markdown",
      "metadata": {
        "id": "g9ivzx9_HmHd",
        "colab_type": "text"
      },
      "source": [
        "### 6) Multivariate Analysis"
      ]
    },
    {
      "cell_type": "code",
      "metadata": {
        "id": "OzSIIANEHr0v",
        "colab_type": "code",
        "colab": {
          "base_uri": "https://localhost:8080/",
          "height": 348
        },
        "outputId": "8dc4daf1-661a-40c1-ab82-571e65e3d93b"
      },
      "source": [
        "#getting the number of recoveries\n",
        "#create a recovery column\n",
        "ebola_df['no of recoveries'] = ebola_df['no of confirmed cases'] - ebola_df['no of confirmed deaths']\n",
        "ebola_df.head(10)"
      ],
      "execution_count": 42,
      "outputs": [
        {
          "output_type": "execute_result",
          "data": {
            "text/html": [
              "<div>\n",
              "<style scoped>\n",
              "    .dataframe tbody tr th:only-of-type {\n",
              "        vertical-align: middle;\n",
              "    }\n",
              "\n",
              "    .dataframe tbody tr th {\n",
              "        vertical-align: top;\n",
              "    }\n",
              "\n",
              "    .dataframe thead th {\n",
              "        text-align: right;\n",
              "    }\n",
              "</style>\n",
              "<table border=\"1\" class=\"dataframe\">\n",
              "  <thead>\n",
              "    <tr style=\"text-align: right;\">\n",
              "      <th></th>\n",
              "      <th>Country</th>\n",
              "      <th>Date</th>\n",
              "      <th>no of confirmed cases</th>\n",
              "      <th>no of confirmed deaths</th>\n",
              "      <th>no of recoveries</th>\n",
              "    </tr>\n",
              "  </thead>\n",
              "  <tbody>\n",
              "    <tr>\n",
              "      <th>0</th>\n",
              "      <td>Guinea</td>\n",
              "      <td>2014-08-29</td>\n",
              "      <td>648.0</td>\n",
              "      <td>430.0</td>\n",
              "      <td>218.0</td>\n",
              "    </tr>\n",
              "    <tr>\n",
              "      <th>1</th>\n",
              "      <td>Nigeria</td>\n",
              "      <td>2014-08-29</td>\n",
              "      <td>19.0</td>\n",
              "      <td>7.0</td>\n",
              "      <td>12.0</td>\n",
              "    </tr>\n",
              "    <tr>\n",
              "      <th>2</th>\n",
              "      <td>Sierra Leone</td>\n",
              "      <td>2014-08-29</td>\n",
              "      <td>1026.0</td>\n",
              "      <td>422.0</td>\n",
              "      <td>604.0</td>\n",
              "    </tr>\n",
              "    <tr>\n",
              "      <th>3</th>\n",
              "      <td>Liberia</td>\n",
              "      <td>2014-08-29</td>\n",
              "      <td>1378.0</td>\n",
              "      <td>694.0</td>\n",
              "      <td>684.0</td>\n",
              "    </tr>\n",
              "    <tr>\n",
              "      <th>4</th>\n",
              "      <td>Sierra Leone</td>\n",
              "      <td>2014-09-05</td>\n",
              "      <td>1261.0</td>\n",
              "      <td>491.0</td>\n",
              "      <td>770.0</td>\n",
              "    </tr>\n",
              "    <tr>\n",
              "      <th>5</th>\n",
              "      <td>Nigeria</td>\n",
              "      <td>2014-09-05</td>\n",
              "      <td>22.0</td>\n",
              "      <td>8.0</td>\n",
              "      <td>14.0</td>\n",
              "    </tr>\n",
              "    <tr>\n",
              "      <th>6</th>\n",
              "      <td>Liberia</td>\n",
              "      <td>2014-09-05</td>\n",
              "      <td>1871.0</td>\n",
              "      <td>1089.0</td>\n",
              "      <td>782.0</td>\n",
              "    </tr>\n",
              "    <tr>\n",
              "      <th>7</th>\n",
              "      <td>Guinea</td>\n",
              "      <td>2014-09-05</td>\n",
              "      <td>812.0</td>\n",
              "      <td>517.0</td>\n",
              "      <td>295.0</td>\n",
              "    </tr>\n",
              "    <tr>\n",
              "      <th>8</th>\n",
              "      <td>Senegal</td>\n",
              "      <td>2014-09-05</td>\n",
              "      <td>1.0</td>\n",
              "      <td>0.0</td>\n",
              "      <td>1.0</td>\n",
              "    </tr>\n",
              "    <tr>\n",
              "      <th>9</th>\n",
              "      <td>Senegal</td>\n",
              "      <td>2014-09-08</td>\n",
              "      <td>3.0</td>\n",
              "      <td>0.0</td>\n",
              "      <td>3.0</td>\n",
              "    </tr>\n",
              "  </tbody>\n",
              "</table>\n",
              "</div>"
            ],
            "text/plain": [
              "        Country       Date  ...  no of confirmed deaths  no of recoveries\n",
              "0        Guinea 2014-08-29  ...                   430.0             218.0\n",
              "1       Nigeria 2014-08-29  ...                     7.0              12.0\n",
              "2  Sierra Leone 2014-08-29  ...                   422.0             604.0\n",
              "3       Liberia 2014-08-29  ...                   694.0             684.0\n",
              "4  Sierra Leone 2014-09-05  ...                   491.0             770.0\n",
              "5       Nigeria 2014-09-05  ...                     8.0              14.0\n",
              "6       Liberia 2014-09-05  ...                  1089.0             782.0\n",
              "7        Guinea 2014-09-05  ...                   517.0             295.0\n",
              "8       Senegal 2014-09-05  ...                     0.0               1.0\n",
              "9       Senegal 2014-09-08  ...                     0.0               3.0\n",
              "\n",
              "[10 rows x 5 columns]"
            ]
          },
          "metadata": {
            "tags": []
          },
          "execution_count": 42
        }
      ]
    },
    {
      "cell_type": "code",
      "metadata": {
        "id": "jkSeSkL1O9Gb",
        "colab_type": "code",
        "colab": {
          "base_uri": "https://localhost:8080/",
          "height": 318
        },
        "outputId": "ed1627f3-9959-418f-8e40-c451e472509d"
      },
      "source": [
        "#visualize country with highest recovery\n",
        "\n",
        "plt.figure(figsize=(15,5))\n",
        "sns.barplot(x='Country', y='no of recoveries', data=ebola_df)"
      ],
      "execution_count": 43,
      "outputs": [
        {
          "output_type": "execute_result",
          "data": {
            "text/plain": [
              "<matplotlib.axes._subplots.AxesSubplot at 0x7f180a8690b8>"
            ]
          },
          "metadata": {
            "tags": []
          },
          "execution_count": 43
        },
        {
          "output_type": "display_data",
          "data": {
            "image/png": "[encoded data removed]",
            "text/plain": [
              "<Figure size 1080x360 with 1 Axes>"
            ]
          },
          "metadata": {
            "tags": []
          }
        }
      ]
    },
    {
      "cell_type": "markdown",
      "metadata": {
        "id": "XqI_m7m8IMaT",
        "colab_type": "text"
      },
      "source": [
        "### 7) Hypothesis Testing"
      ]
    },
    {
      "cell_type": "markdown",
      "metadata": {
        "id": "WLoZ1ZTJIR9x",
        "colab_type": "text"
      },
      "source": [
        "**Hypothesis 1**\n",
        "\n",
        "The average number of deaths in sierra leonne is the same as that in Liberia.\n",
        "\n",
        "Ho: mu1 = mu2\n",
        "\n",
        "H1: mu1 != mu2"
      ]
    },
    {
      "cell_type": "code",
      "metadata": {
        "id": "w55QNTgjuxZm",
        "colab_type": "code",
        "colab": {
          "base_uri": "https://localhost:8080/",
          "height": 204
        },
        "outputId": "b4fa8cda-761a-491f-e0ea-fa01b763fc40"
      },
      "source": [
        "#selecting relevant data\n",
        "#for liberia\n",
        "lib_df=ebola_df[ebola_df['Country'] == 'Liberia']\n",
        "lib_df.head()"
      ],
      "execution_count": null,
      "outputs": [
        {
          "output_type": "execute_result",
          "data": {
            "text/html": [
              "<div>\n",
              "<style scoped>\n",
              "    .dataframe tbody tr th:only-of-type {\n",
              "        vertical-align: middle;\n",
              "    }\n",
              "\n",
              "    .dataframe tbody tr th {\n",
              "        vertical-align: top;\n",
              "    }\n",
              "\n",
              "    .dataframe thead th {\n",
              "        text-align: right;\n",
              "    }\n",
              "</style>\n",
              "<table border=\"1\" class=\"dataframe\">\n",
              "  <thead>\n",
              "    <tr style=\"text-align: right;\">\n",
              "      <th></th>\n",
              "      <th>Country</th>\n",
              "      <th>Date</th>\n",
              "      <th>no of confirmed cases</th>\n",
              "      <th>no of confirmed deaths</th>\n",
              "    </tr>\n",
              "  </thead>\n",
              "  <tbody>\n",
              "    <tr>\n",
              "      <th>3</th>\n",
              "      <td>Liberia</td>\n",
              "      <td>2014-08-29</td>\n",
              "      <td>1378.0</td>\n",
              "      <td>694.0</td>\n",
              "    </tr>\n",
              "    <tr>\n",
              "      <th>6</th>\n",
              "      <td>Liberia</td>\n",
              "      <td>2014-09-05</td>\n",
              "      <td>1871.0</td>\n",
              "      <td>1089.0</td>\n",
              "    </tr>\n",
              "    <tr>\n",
              "      <th>12</th>\n",
              "      <td>Liberia</td>\n",
              "      <td>2014-09-08</td>\n",
              "      <td>2046.0</td>\n",
              "      <td>1224.0</td>\n",
              "    </tr>\n",
              "    <tr>\n",
              "      <th>17</th>\n",
              "      <td>Liberia</td>\n",
              "      <td>2014-09-12</td>\n",
              "      <td>2081.0</td>\n",
              "      <td>1137.0</td>\n",
              "    </tr>\n",
              "    <tr>\n",
              "      <th>23</th>\n",
              "      <td>Liberia</td>\n",
              "      <td>2014-09-16</td>\n",
              "      <td>2407.0</td>\n",
              "      <td>1296.0</td>\n",
              "    </tr>\n",
              "  </tbody>\n",
              "</table>\n",
              "</div>"
            ],
            "text/plain": [
              "    Country       Date  no of confirmed cases  no of confirmed deaths\n",
              "3   Liberia 2014-08-29                 1378.0                   694.0\n",
              "6   Liberia 2014-09-05                 1871.0                  1089.0\n",
              "12  Liberia 2014-09-08                 2046.0                  1224.0\n",
              "17  Liberia 2014-09-12                 2081.0                  1137.0\n",
              "23  Liberia 2014-09-16                 2407.0                  1296.0"
            ]
          },
          "metadata": {
            "tags": []
          },
          "execution_count": 90
        }
      ]
    },
    {
      "cell_type": "code",
      "metadata": {
        "id": "zyYqCcGZ5Y1p",
        "colab_type": "code",
        "colab": {
          "base_uri": "https://localhost:8080/",
          "height": 221
        },
        "outputId": "4916e6bc-5d8b-43d2-bed8-d307ee278645"
      },
      "source": [
        "lib_df['no of confirmed deaths']"
      ],
      "execution_count": null,
      "outputs": [
        {
          "output_type": "execute_result",
          "data": {
            "text/plain": [
              "3        694.0\n",
              "6       1089.0\n",
              "12      1224.0\n",
              "17      1137.0\n",
              "23      1296.0\n",
              "         ...  \n",
              "2465    4806.0\n",
              "2466       3.0\n",
              "2479       3.0\n",
              "2480    4806.0\n",
              "2482       4.0\n",
              "Name: no of confirmed deaths, Length: 365, dtype: float64"
            ]
          },
          "metadata": {
            "tags": []
          },
          "execution_count": 98
        }
      ]
    },
    {
      "cell_type": "code",
      "metadata": {
        "id": "7-UcpyDx3udx",
        "colab_type": "code",
        "colab": {
          "base_uri": "https://localhost:8080/",
          "height": 34
        },
        "outputId": "115961ff-5123-406c-e99b-fb23c18cc33b"
      },
      "source": [
        "#pop mean of deaths in liberia\n",
        "lib_df['no of confirmed deaths'].mean()"
      ],
      "execution_count": null,
      "outputs": [
        {
          "output_type": "execute_result",
          "data": {
            "text/plain": [
              "3013.241095890411"
            ]
          },
          "metadata": {
            "tags": []
          },
          "execution_count": 95
        }
      ]
    },
    {
      "cell_type": "code",
      "metadata": {
        "id": "RUlq_1VE5puz",
        "colab_type": "code",
        "colab": {}
      },
      "source": [
        "libdeaths=lib_df['no of confirmed deaths'].values\n",
        "libdeaths"
      ],
      "execution_count": null,
      "outputs": []
    },
    {
      "cell_type": "code",
      "metadata": {
        "id": "uP4QwuRmvHhm",
        "colab_type": "code",
        "colab": {
          "base_uri": "https://localhost:8080/",
          "height": 204
        },
        "outputId": "b08f36cb-0b50-4a67-c00d-ff30dab861d4"
      },
      "source": [
        "#for sierra leone\n",
        "sierra_df=ebola_df[ebola_df['Country'] == 'Sierra Leone']\n",
        "sierra_df.head()"
      ],
      "execution_count": null,
      "outputs": [
        {
          "output_type": "execute_result",
          "data": {
            "text/html": [
              "<div>\n",
              "<style scoped>\n",
              "    .dataframe tbody tr th:only-of-type {\n",
              "        vertical-align: middle;\n",
              "    }\n",
              "\n",
              "    .dataframe tbody tr th {\n",
              "        vertical-align: top;\n",
              "    }\n",
              "\n",
              "    .dataframe thead th {\n",
              "        text-align: right;\n",
              "    }\n",
              "</style>\n",
              "<table border=\"1\" class=\"dataframe\">\n",
              "  <thead>\n",
              "    <tr style=\"text-align: right;\">\n",
              "      <th></th>\n",
              "      <th>Country</th>\n",
              "      <th>Date</th>\n",
              "      <th>no of confirmed cases</th>\n",
              "      <th>no of confirmed deaths</th>\n",
              "    </tr>\n",
              "  </thead>\n",
              "  <tbody>\n",
              "    <tr>\n",
              "      <th>2</th>\n",
              "      <td>Sierra Leone</td>\n",
              "      <td>2014-08-29</td>\n",
              "      <td>1026.0</td>\n",
              "      <td>422.0</td>\n",
              "    </tr>\n",
              "    <tr>\n",
              "      <th>4</th>\n",
              "      <td>Sierra Leone</td>\n",
              "      <td>2014-09-05</td>\n",
              "      <td>1261.0</td>\n",
              "      <td>491.0</td>\n",
              "    </tr>\n",
              "    <tr>\n",
              "      <th>11</th>\n",
              "      <td>Sierra Leone</td>\n",
              "      <td>2014-09-08</td>\n",
              "      <td>1361.0</td>\n",
              "      <td>509.0</td>\n",
              "    </tr>\n",
              "    <tr>\n",
              "      <th>15</th>\n",
              "      <td>Sierra Leone</td>\n",
              "      <td>2014-09-12</td>\n",
              "      <td>1424.0</td>\n",
              "      <td>524.0</td>\n",
              "    </tr>\n",
              "    <tr>\n",
              "      <th>20</th>\n",
              "      <td>Sierra Leone</td>\n",
              "      <td>2014-09-16</td>\n",
              "      <td>1620.0</td>\n",
              "      <td>562.0</td>\n",
              "    </tr>\n",
              "  </tbody>\n",
              "</table>\n",
              "</div>"
            ],
            "text/plain": [
              "         Country       Date  no of confirmed cases  no of confirmed deaths\n",
              "2   Sierra Leone 2014-08-29                 1026.0                   422.0\n",
              "4   Sierra Leone 2014-09-05                 1261.0                   491.0\n",
              "11  Sierra Leone 2014-09-08                 1361.0                   509.0\n",
              "15  Sierra Leone 2014-09-12                 1424.0                   524.0\n",
              "20  Sierra Leone 2014-09-16                 1620.0                   562.0"
            ]
          },
          "metadata": {
            "tags": []
          },
          "execution_count": 91
        }
      ]
    },
    {
      "cell_type": "code",
      "metadata": {
        "id": "AN0rT56N4a60",
        "colab_type": "code",
        "colab": {
          "base_uri": "https://localhost:8080/",
          "height": 34
        },
        "outputId": "22d1fc5c-2f58-44fc-ab6e-1b13dacc32eb"
      },
      "source": [
        "#avg no of deaths in sierra\n",
        "sierra_df['no of confirmed deaths'].mean()"
      ],
      "execution_count": null,
      "outputs": [
        {
          "output_type": "execute_result",
          "data": {
            "text/plain": [
              "3431.7915057915056"
            ]
          },
          "metadata": {
            "tags": []
          },
          "execution_count": 96
        }
      ]
    },
    {
      "cell_type": "code",
      "metadata": {
        "id": "gU7yy_6l6DDk",
        "colab_type": "code",
        "colab": {}
      },
      "source": [
        "sierradeaths=sierra_df['no of confirmed cases'].values"
      ],
      "execution_count": null,
      "outputs": []
    },
    {
      "cell_type": "code",
      "metadata": {
        "id": "1PgobPTJ2kEv",
        "colab_type": "code",
        "colab": {}
      },
      "source": [
        "#sampling\n",
        "#choosing a sample of 50 from liberia\n",
        "\n",
        "samplib=libdeaths[np.argsort(np.random.random_sample(len(lib_df)))[:50]]"
      ],
      "execution_count": null,
      "outputs": []
    },
    {
      "cell_type": "code",
      "metadata": {
        "id": "Ayo37tGi6MdD",
        "colab_type": "code",
        "colab": {
          "base_uri": "https://localhost:8080/",
          "height": 136
        },
        "outputId": "0d322972-b11e-4d6f-bb3a-19795d9d2cb6"
      },
      "source": [
        "#choosing a sample of 50 from sierra\n",
        "sampsierra=sierradeaths[np.argsort(np.random.random_sample(len(sierra_df)))[:50]]\n",
        "sampsierra"
      ],
      "execution_count": null,
      "outputs": [
        {
          "output_type": "execute_result",
          "data": {
            "text/plain": [
              "array([13135., 12267., 11155., 13262., 13465., 13928., 14122., 12313.,\n",
              "       12827.,  6190.,  2950., 12962., 12523.,  4862., 10934., 11619.,\n",
              "       14122., 10030., 12440., 13470., 12362., 12426., 11517., 11696.,\n",
              "       11103., 13387., 14122., 14122., 13290., 14122., 11794., 12816.,\n",
              "       12932.,  9780., 14001., 11301., 13489., 11497., 11677.,  9772.,\n",
              "       10561., 11103.,  6599.,  9780.,  5235., 13582., 13982., 13402.,\n",
              "        1361., 12223.])"
            ]
          },
          "metadata": {
            "tags": []
          },
          "execution_count": 111
        }
      ]
    },
    {
      "cell_type": "code",
      "metadata": {
        "id": "-7gb1NlH6Pkw",
        "colab_type": "code",
        "colab": {
          "base_uri": "https://localhost:8080/",
          "height": 51
        },
        "outputId": "a0752b6b-5d09-4c0d-b020-0b4dd971df8c"
      },
      "source": [
        "#calculating pop variance of liberia and sierra leone\n",
        "\n",
        "varlib=np.var(lib_df)\n",
        "varsierra=np.var(sierra_df)\n",
        "\n",
        "samp_lib_mean=np.mean(samplib)\n",
        "samp_sierra_mean=np.mean(sampsierra)\n",
        "\n",
        "print(samp_lib_mean)\n",
        "print(samp_sierra_mean)"
      ],
      "execution_count": null,
      "outputs": [
        {
          "output_type": "stream",
          "text": [
            "2862.24\n",
            "11472.2\n"
          ],
          "name": "stdout"
        }
      ]
    },
    {
      "cell_type": "code",
      "metadata": {
        "id": "hg7LZqMS9k5g",
        "colab_type": "code",
        "colab": {}
      },
      "source": [
        "#calculate ztest\n",
        "\n",
        "import math\n",
        "(samp_lib_mean-samp_sierra_mean)-(0)/(math.sqrt((varlib/50)+(varsierra/50)))\n",
        "# (meanOfSampF-meanOfSampM) - (0) / (math.sqrt((varPopF/50)+(varPopM/50)))"
      ],
      "execution_count": null,
      "outputs": []
    },
    {
      "cell_type": "markdown",
      "metadata": {
        "id": "TrMTgWGluU6d",
        "colab_type": "text"
      },
      "source": [
        "### 8) Modelling"
      ]
    },
    {
      "cell_type": "markdown",
      "metadata": {
        "id": "UxizX3wKPlLf",
        "colab_type": "text"
      },
      "source": [
        "***Linear regression***"
      ]
    },
    {
      "cell_type": "code",
      "metadata": {
        "id": "uX_-k-SWuY9G",
        "colab_type": "code",
        "colab": {}
      },
      "source": [
        "#identifying the target and the explanatory variables\n",
        "\n",
        "X = ebola_df['no of confirmed cases'].values.reshape(-1,1)  #independent\n",
        "y = ebola_df['no of confirmed deaths'].values #dependent"
      ],
      "execution_count": 65,
      "outputs": []
    },
    {
      "cell_type": "code",
      "metadata": {
        "id": "jdZYHiV1PyFH",
        "colab_type": "code",
        "colab": {}
      },
      "source": [
        "#splitting the data into training and test sets\n",
        "#use 20% of the data to test\n",
        "X_train, X_test, y_train, y_test = train_test_split(X, y, test_size=0.2, random_state=0)"
      ],
      "execution_count": 66,
      "outputs": []
    },
    {
      "cell_type": "code",
      "metadata": {
        "id": "7rGFBFYPQZb9",
        "colab_type": "code",
        "colab": {
          "base_uri": "https://localhost:8080/",
          "height": 54
        },
        "outputId": "e11caccf-05ad-4280-f5a6-45d50850bbbe"
      },
      "source": [
        "#creating a regressor object\n",
        "regressor= LinearRegression()\n",
        "regressor.fit(X_train, y_train)\n",
        "\n",
        "#intercept\n",
        "print(regressor.intercept_)\n",
        "\n",
        "#coefficient\n",
        "print(regressor.coef_)  #slope"
      ],
      "execution_count": 68,
      "outputs": [
        {
          "output_type": "stream",
          "text": [
            "117.66719956161057\n",
            "[0.35585098]\n"
          ],
          "name": "stdout"
        }
      ]
    },
    {
      "cell_type": "code",
      "metadata": {
        "id": "0gbeyi7tSOUr",
        "colab_type": "code",
        "colab": {
          "base_uri": "https://localhost:8080/",
          "height": 288
        },
        "outputId": "48158475-168e-4422-e69f-dd4372aebf97"
      },
      "source": [
        "#assess accuracy\n",
        "#comapring the actual and the predicted\n",
        "y_predict = regressor.predict(X_test)\n",
        "\n",
        "comparison_frame = pd.DataFrame({'Actual': y_test.flatten(), 'Predicted': y_predict.flatten()})\n",
        "\n",
        "comparison_frame.describe()"
      ],
      "execution_count": 71,
      "outputs": [
        {
          "output_type": "execute_result",
          "data": {
            "text/html": [
              "<div>\n",
              "<style scoped>\n",
              "    .dataframe tbody tr th:only-of-type {\n",
              "        vertical-align: middle;\n",
              "    }\n",
              "\n",
              "    .dataframe tbody tr th {\n",
              "        vertical-align: top;\n",
              "    }\n",
              "\n",
              "    .dataframe thead th {\n",
              "        text-align: right;\n",
              "    }\n",
              "</style>\n",
              "<table border=\"1\" class=\"dataframe\">\n",
              "  <thead>\n",
              "    <tr style=\"text-align: right;\">\n",
              "      <th></th>\n",
              "      <th>Actual</th>\n",
              "      <th>Predicted</th>\n",
              "    </tr>\n",
              "  </thead>\n",
              "  <tbody>\n",
              "    <tr>\n",
              "      <th>count</th>\n",
              "      <td>496.000000</td>\n",
              "      <td>496.000000</td>\n",
              "    </tr>\n",
              "    <tr>\n",
              "      <th>mean</th>\n",
              "      <td>1051.441532</td>\n",
              "      <td>1025.158213</td>\n",
              "    </tr>\n",
              "    <tr>\n",
              "      <th>std</th>\n",
              "      <td>1683.888049</td>\n",
              "      <td>1568.705258</td>\n",
              "    </tr>\n",
              "    <tr>\n",
              "      <th>min</th>\n",
              "      <td>0.000000</td>\n",
              "      <td>118.023051</td>\n",
              "    </tr>\n",
              "    <tr>\n",
              "      <th>25%</th>\n",
              "      <td>0.000000</td>\n",
              "      <td>118.023051</td>\n",
              "    </tr>\n",
              "    <tr>\n",
              "      <th>50%</th>\n",
              "      <td>6.000000</td>\n",
              "      <td>120.514007</td>\n",
              "    </tr>\n",
              "    <tr>\n",
              "      <th>75%</th>\n",
              "      <td>2444.500000</td>\n",
              "      <td>1440.899050</td>\n",
              "    </tr>\n",
              "    <tr>\n",
              "      <th>max</th>\n",
              "      <td>4806.000000</td>\n",
              "      <td>5142.994669</td>\n",
              "    </tr>\n",
              "  </tbody>\n",
              "</table>\n",
              "</div>"
            ],
            "text/plain": [
              "            Actual    Predicted\n",
              "count   496.000000   496.000000\n",
              "mean   1051.441532  1025.158213\n",
              "std    1683.888049  1568.705258\n",
              "min       0.000000   118.023051\n",
              "25%       0.000000   118.023051\n",
              "50%       6.000000   120.514007\n",
              "75%    2444.500000  1440.899050\n",
              "max    4806.000000  5142.994669"
            ]
          },
          "metadata": {
            "tags": []
          },
          "execution_count": 71
        }
      ]
    },
    {
      "cell_type": "code",
      "metadata": {
        "id": "u74Yz4jYSQ8v",
        "colab_type": "code",
        "colab": {
          "base_uri": "https://localhost:8080/",
          "height": 90
        },
        "outputId": "d8cc64eb-50eb-4b0e-b142-0a1ffa753779"
      },
      "source": [
        "y_pred = regressor.predict(X_test)\n",
        "\n",
        "import sklearn.metrics as metrics\n",
        "print('Mean Absolute Error:', metrics.mean_absolute_error(y_test, y_pred))  \n",
        "print('Mean Squared Error:', metrics.mean_squared_error(y_test, y_pred))  \n",
        "print('Root Mean Squared Error:', np.sqrt(metrics.mean_squared_error(y_test, y_pred)))\n",
        "acc_linear_reg=round(r2_score(y_test, y_pred)*100,2)\n",
        "acc_linear_reg"
      ],
      "execution_count": 100,
      "outputs": [
        {
          "output_type": "stream",
          "text": [
            "Mean Absolute Error: 333.7441281472331\n",
            "Mean Squared Error: 232261.52417163004\n",
            "Root Mean Squared Error: 481.93518669176876\n"
          ],
          "name": "stdout"
        },
        {
          "output_type": "execute_result",
          "data": {
            "text/plain": [
              "91.79"
            ]
          },
          "metadata": {
            "tags": []
          },
          "execution_count": 100
        }
      ]
    },
    {
      "cell_type": "markdown",
      "metadata": {
        "id": "z47x0eNAWRY1",
        "colab_type": "text"
      },
      "source": [
        "*our model accuracy is at 92%.our model is perfoming quite well*"
      ]
    },
    {
      "cell_type": "markdown",
      "metadata": {
        "id": "gmVuGmrFXjYR",
        "colab_type": "text"
      },
      "source": [
        "**ElasticNet regression**"
      ]
    },
    {
      "cell_type": "code",
      "metadata": {
        "id": "dhhFf6vfUoIy",
        "colab_type": "code",
        "colab": {
          "base_uri": "https://localhost:8080/",
          "height": 90
        },
        "outputId": "04dfc47d-82e7-4474-b7e6-1e04972c9957"
      },
      "source": [
        "#Elastic Net\n",
        "model_enet = ElasticNet(alpha = 0.01)\n",
        "model_enet.fit(X_train, y_train) \n",
        "y_pred= model_enet.predict(X_train)\n",
        "print(np.sqrt(mean_squared_error(y_train,y_pred)))\n",
        "print(r2_score(y_train,y_pred))\n",
        "\n",
        "y_pred= model_enet.predict(X_test)\n",
        "print(np.sqrt(mean_squared_error(y_test,y_pred)))\n",
        "acc_elastic_net=round(r2_score(y_test, y_pred)*100,2)\n",
        "acc_elastic_net"
      ],
      "execution_count": 102,
      "outputs": [
        {
          "output_type": "stream",
          "text": [
            "488.7740747447543\n",
            "0.9123631063257337\n",
            "481.93518683490254\n"
          ],
          "name": "stdout"
        },
        {
          "output_type": "execute_result",
          "data": {
            "text/plain": [
              "91.79"
            ]
          },
          "metadata": {
            "tags": []
          },
          "execution_count": 102
        }
      ]
    },
    {
      "cell_type": "markdown",
      "metadata": {
        "id": "cg2f6w8IYZRR",
        "colab_type": "text"
      },
      "source": [
        "*92% accuracy*"
      ]
    },
    {
      "cell_type": "markdown",
      "metadata": {
        "id": "VRpzKtrSY2vN",
        "colab_type": "text"
      },
      "source": [
        "***Decision Tree***"
      ]
    },
    {
      "cell_type": "code",
      "metadata": {
        "id": "DioOGFiTX6Ne",
        "colab_type": "code",
        "colab": {
          "base_uri": "https://localhost:8080/",
          "height": 35
        },
        "outputId": "a377fc27-c20f-4954-fbcd-c11f7b610ed1"
      },
      "source": [
        "decision_tree = DecisionTreeClassifier()\n",
        "decision_tree.fit(X_train, y_train)\n",
        "Y_pred = decision_tree.predict(X_test)\n",
        "acc_decision_tree = round(decision_tree.score(X_train, y_train) * 100, 2)\n",
        "acc_decision_tree"
      ],
      "execution_count": 86,
      "outputs": [
        {
          "output_type": "execute_result",
          "data": {
            "text/plain": [
              "97.83"
            ]
          },
          "metadata": {
            "tags": []
          },
          "execution_count": 86
        }
      ]
    },
    {
      "cell_type": "markdown",
      "metadata": {
        "id": "WkFD33_-ZEjc",
        "colab_type": "text"
      },
      "source": [
        "*98% accuracy*"
      ]
    },
    {
      "cell_type": "markdown",
      "metadata": {
        "id": "lkY8NUhHZIO-",
        "colab_type": "text"
      },
      "source": [
        "***Random forest***"
      ]
    },
    {
      "cell_type": "code",
      "metadata": {
        "id": "zf-4EKGCY_8S",
        "colab_type": "code",
        "colab": {
          "base_uri": "https://localhost:8080/",
          "height": 35
        },
        "outputId": "c51faf16-2d0f-41f0-a5f3-e87cf700c2a2"
      },
      "source": [
        "random_forest = RandomForestClassifier(n_estimators=100)\n",
        "random_forest.fit(X_train, y_train)\n",
        "\n",
        "Y_prediction = random_forest.predict(X_test)\n",
        "\n",
        "random_forest.score(X_train, y_train)\n",
        "acc_random_forest = round(random_forest.score(X_train, y_train) * 100,2)\n",
        "acc_random_forest"
      ],
      "execution_count": 88,
      "outputs": [
        {
          "output_type": "execute_result",
          "data": {
            "text/plain": [
              "97.83"
            ]
          },
          "metadata": {
            "tags": []
          },
          "execution_count": 88
        }
      ]
    },
    {
      "cell_type": "markdown",
      "metadata": {
        "id": "66FpdOzhZVTL",
        "colab_type": "text"
      },
      "source": [
        "*98% accuracy*"
      ]
    },
    {
      "cell_type": "markdown",
      "metadata": {
        "id": "Y0hbmKTCZZYt",
        "colab_type": "text"
      },
      "source": [
        "*Which is the best model*"
      ]
    },
    {
      "cell_type": "code",
      "metadata": {
        "id": "0WkBQX7XZdI4",
        "colab_type": "code",
        "colab": {
          "base_uri": "https://localhost:8080/",
          "height": 198
        },
        "outputId": "1817d18f-f7e4-4155-85fa-ff317f77deab"
      },
      "source": [
        "results = pd.DataFrame({\n",
        "    'Model':['ElasticNet Regression', 'Linear Regression', \n",
        "              'Random Forest','Decision Tree'],\n",
        "      'Score':[acc_linear_reg, acc_elastic_net, acc_random_forest,acc_decision_tree]})\n",
        "\n",
        "results_df = results.sort_values(by='Score', ascending=False)\n",
        "results_df= results_df.set_index('Score')\n",
        "results_df"
      ],
      "execution_count": 103,
      "outputs": [
        {
          "output_type": "execute_result",
          "data": {
            "text/html": [
              "<div>\n",
              "<style scoped>\n",
              "    .dataframe tbody tr th:only-of-type {\n",
              "        vertical-align: middle;\n",
              "    }\n",
              "\n",
              "    .dataframe tbody tr th {\n",
              "        vertical-align: top;\n",
              "    }\n",
              "\n",
              "    .dataframe thead th {\n",
              "        text-align: right;\n",
              "    }\n",
              "</style>\n",
              "<table border=\"1\" class=\"dataframe\">\n",
              "  <thead>\n",
              "    <tr style=\"text-align: right;\">\n",
              "      <th></th>\n",
              "      <th>Model</th>\n",
              "    </tr>\n",
              "    <tr>\n",
              "      <th>Score</th>\n",
              "      <th></th>\n",
              "    </tr>\n",
              "  </thead>\n",
              "  <tbody>\n",
              "    <tr>\n",
              "      <th>97.83</th>\n",
              "      <td>Random Forest</td>\n",
              "    </tr>\n",
              "    <tr>\n",
              "      <th>97.83</th>\n",
              "      <td>Decision Tree</td>\n",
              "    </tr>\n",
              "    <tr>\n",
              "      <th>91.79</th>\n",
              "      <td>ElasticNet Regression</td>\n",
              "    </tr>\n",
              "    <tr>\n",
              "      <th>91.79</th>\n",
              "      <td>Linear Regression</td>\n",
              "    </tr>\n",
              "  </tbody>\n",
              "</table>\n",
              "</div>"
            ],
            "text/plain": [
              "                       Model\n",
              "Score                       \n",
              "97.83          Random Forest\n",
              "97.83          Decision Tree\n",
              "91.79  ElasticNet Regression\n",
              "91.79      Linear Regression"
            ]
          },
          "metadata": {
            "tags": []
          },
          "execution_count": 103
        }
      ]
    },
    {
      "cell_type": "markdown",
      "metadata": {
        "id": "AQaN_exVaRYj",
        "colab_type": "text"
      },
      "source": [
        "*out of all the models, random forest came first*"
      ]
    }
  ]
}